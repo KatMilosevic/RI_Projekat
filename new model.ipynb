{
 "cells": [
  {
   "cell_type": "code",
   "execution_count": 5,
   "metadata": {
    "id": "Lv8S0P8HxNpI",
    "tags": []
   },
   "outputs": [],
   "source": [
    "import numpy as np\n",
    "import tensorflow as tf\n",
    "import os\n",
    "from keras.models import Sequential\n",
    "from keras.layers import Dense\n",
    "from keras.layers import Dropout\n",
    "from keras.layers import LSTM\n",
    "from keras.layers import Activation\n",
    "from keras.layers import BatchNormalization as BatchNorm\n",
    "from keras.utils import np_utils\n",
    "from keras.callbacks import ModelCheckpoint, EarlyStopping"
   ]
  },
  {
   "cell_type": "code",
   "execution_count": 6,
   "metadata": {
    "id": "JZ5etwcqQfRV",
    "tags": []
   },
   "outputs": [],
   "source": [
    "import re\n",
    "\n",
    "def remove_whitespaces(string):\n",
    "    return ''.join(string.split())\n",
    "\n",
    "\n",
    "def parse_rtttl(rtttl_str, strict_note_syntax=False):\n",
    "    rtttl_parts = rtttl_str.split(':')\n",
    "\n",
    "    if len(rtttl_parts) != 3:\n",
    "        raise ValueError('RTTTL string should contain title, defaults and data part, separated by colon')\n",
    "\n",
    "    if len(rtttl_parts[2]) == 0:\n",
    "        raise ValueError('Data part cannot be empty')\n",
    "\n",
    "\n",
    "    defaults = parse_defaults(remove_whitespaces(rtttl_parts[1]))\n",
    "    # print(defaults)\n",
    "    parsed_notes = parse_data(remove_whitespaces(rtttl_parts[2]).lower(), strict_note_syntax)\n",
    "    # print(parsed_notes)\n",
    "\n",
    "    for parsed_note in parsed_notes:\n",
    "        # keys = ('duration', 'pitch', 'octave', 'dot')\n",
    "        # print('parsed_note ', parsed_note, 'with default: ', defaults)\n",
    "        for key, value in parsed_note.items():\n",
    "            if value is None:\n",
    "                if key == 'duration':\n",
    "                    parsed_note[key] = defaults['duration']\n",
    "                elif key == 'octave':\n",
    "                    parsed_note[key] = defaults['octave']\n",
    "                elif key == 'bpm':\n",
    "                    parsed_note[key] = defaults['bpm']\n",
    "                else:\n",
    "                    raise ValueError('Error key')\n",
    "\n",
    "    return {'title': rtttl_parts[0], 'notes': parsed_notes}\n",
    "\n",
    "\n",
    "def parse_defaults(defaults_str):\n",
    "    if defaults_str == '':\n",
    "        return {'duration': 4, 'octave': 6, 'bpm': 63}\n",
    "\n",
    "    try:\n",
    "        if re.match(r'^(d=\\d{1,2},o=\\d,b=\\d{1,3})?$', defaults_str):\n",
    "            defaults = dict([d.split('=') for d in defaults_str.split(',')])\n",
    "            parsed_defaults = {\n",
    "                'duration': parse_duration(defaults['d']),\n",
    "                'octave': parse_octave(defaults['o']),\n",
    "                'bpm': parse_bpm(defaults['b'])\n",
    "                }\n",
    "        else:\n",
    "            raise ValueError('Invalid defaults section format')\n",
    "    except ValueError as element:\n",
    "        raise ValueError('%s in %s' % (element.message, defaults_str))\n",
    "\n",
    "    return parsed_defaults\n",
    "\n",
    "\n",
    "def parse_data(notes, strict_note_syntax):\n",
    "    raw_notes = notes.split(',')\n",
    "    # print(raw_notes)\n",
    "\n",
    "    if not strict_note_syntax:\n",
    "        raw_notes = [correct_note_syntax(note) for note in raw_notes]\n",
    "\n",
    "    # print(raw_notes)\n",
    "    return [parse_note(note) for note in raw_notes]\n",
    "\n",
    "\n",
    "def correct_note_syntax(note):\n",
    "    return re.sub(r'^(\\d{0,2})([pbeh]|[cdfga]#?)(\\.?)(\\d*)$', r'\\1\\2\\4\\3', note)\n",
    "\n",
    "\n",
    "def parse_note(note_str):\n",
    "    try:\n",
    "        elements = re.findall(r'^(\\d{0,2})([pbeh]|[cdfga]#?)(\\d?)(\\.?)$', note_str)[0]\n",
    "        # print(elements)\n",
    "        # return\n",
    "        funcs = (parse_duration, parse_pitch, parse_octave, has_dot)\n",
    "        elements = [func(element) for func, element in zip(funcs, elements)]\n",
    "    except ValueError as element:\n",
    "        raise ValueError(' %s in note %s' % (element.message, note_str))\n",
    "    except IndexError:\n",
    "        raise ValueError('Invalid note: %s' % note_str)\n",
    "    keys = ('duration', 'pitch', 'octave', 'dot')\n",
    "    return dict(zip(keys, elements))\n",
    "\n",
    "\n",
    "def parse_duration(duration):\n",
    "    allowed_duration = [1, 2, 4, 8, 16, 32]\n",
    "    return parse_int(duration, allowed_duration)\n",
    "\n",
    "\n",
    "def parse_octave(octave):\n",
    "    allowed_octave = [4, 5, 6, 7]\n",
    "    return parse_int(octave, allowed_octave)\n",
    "\n",
    "\n",
    "def parse_bpm(bpm):\n",
    "    allowed_bpm = [\n",
    "        25, 28, 31, 35, 40, 45, 50, 56, 63, 70, 80, 83, 90,\n",
    "        100, 112, 120, 125, 140, 160, 180, 200, 225, 250, 285,\n",
    "        320, 355, 400, 450, 500, 565, 635, 715, 800, 900]\n",
    "    return parse_int(bpm, allowed_bpm)\n",
    "\n",
    "\n",
    "def parse_pitch(pitch):\n",
    "    allowed_pitch = ['p', 'c', 'c#', 'd', 'd#', 'e', 'f', 'f#', 'g', 'g#', 'a', 'a#', 'h', 'b']\n",
    "    return parse_element(pitch, allowed_pitch)\n",
    "\n",
    "\n",
    "def parse_int(element, allowed):\n",
    "    if element:\n",
    "        return parse_element(int(element), allowed)\n",
    "    return None\n",
    "\n",
    "\n",
    "def parse_element(element, allowed):\n",
    "    if element in allowed:\n",
    "        return element\n",
    "    else:\n",
    "        raise ValueError('Element \\'%s\\' is not allowed' % element)\n",
    "\n",
    "\n",
    "def has_dot(dot):\n",
    "    return dot == '.'"
   ]
  },
  {
   "cell_type": "code",
   "execution_count": null,
   "metadata": {
    "id": "CdpuPHfoSE5r"
   },
   "outputs": [],
   "source": []
  },
  {
   "cell_type": "code",
   "execution_count": 7,
   "metadata": {
    "id": "EVpMBJ9qfQ13",
    "tags": []
   },
   "outputs": [],
   "source": [
    "#parse(\"112 - Peaches And Cream : d=4,o=5,b=100:8b6,16p,8b.6,8g6,8e6,b6,8p,8b6,16p,8b.6,8g6,8d7,b6,8p,8b,16p,8b.,8f#6,8g6,a6,8p,8b,16p,8b.,8f#6,8g6,8a6,8f#6,8g6,8b6,16p,8b.6,8g6,8e6,b6,8p,8b6,16p,8b.6,8g6,8d7,b6,\")"
   ]
  },
  {
   "cell_type": "code",
   "execution_count": 8,
   "metadata": {
    "id": "_q7wLEGA20RO",
    "tags": []
   },
   "outputs": [],
   "source": [
    "import pandas as pd"
   ]
  },
  {
   "cell_type": "code",
   "execution_count": 26,
   "metadata": {
    "colab": {
     "base_uri": "https://localhost:8080/",
     "height": 1000
    },
    "id": "DzzqGRLXRUvv",
    "outputId": "aa6a246d-d42a-4f50-9db9-da7811129ad1",
    "tags": []
   },
   "outputs": [
    {
     "name": "stdout",
     "output_type": "stream",
     "text": [
      "rtttl2\\112 - Its Over Now .txt\n",
      "rtttl2\\112 - Peaches And Cream .txt\n",
      "rtttl2\\187 Lockdown - Kung Fu .txt\n",
      "rtttl2\\2Pac - All Eyez On Me .txt\n",
      "rtttl2\\2Pac - California Love .txt\n",
      "rtttl2\\2Pac - Changes .txt\n",
      "rtttl2\\2Pac - Dear Mama .txt\n",
      "rtttl2\\2Pac - Hit Em Up .txt\n",
      "rtttl2\\2Pac - I Aint Mad At Cha .txt\n",
      "rtttl2\\2Pac - Two Of Amerikas Most Wanted .txt\n",
      "rtttl2\\3 Doors Down - Kryptonite (Chorus .txt\n",
      "rtttl2\\3 Doors Down - Kryptonite .txt\n",
      "rtttl2\\633 Squadron Theme .txt\n",
      "rtttl2\\A Team Theme .txt\n",
      "rtttl2\\A1 - Everytime .txt\n",
      "rtttl2\\A1 - Like A Rose .txt\n",
      "rtttl2\\A1 - Same Old Brand New You .txt\n",
      "rtttl2\\A1 - Take On Me .txt\n",
      "rtttl2\\Aaliyah - Try Again .txt\n",
      "rtttl2\\Aaron Soul - Ring Ring Ring .txt\n",
      "rtttl2\\Abba - Mamma Mia .txt\n",
      "rtttl2\\Abba - Money Money Money .txt\n",
      "rtttl2\\Adam Sandler - Grow Old With You .txt\n",
      "rtttl2\\Adams Family .txt\n",
      "rtttl2\\Adams Family Theme .txt\n",
      "rtttl2\\Aerosmith - Dont Wanna Miss A Thing .txt\n",
      "rtttl2\\Airwolf Theme .txt\n",
      "rtttl2\\Alice Deejay - Better Off Alone .txt\n",
      "rtttl2\\Alice Deejay - I Want You Back In My Life .txt\n",
      "rtttl2\\Alice Deejay - Will I Ever .txt\n",
      "rtttl2\\All Saints - Black Coffee .txt\n",
      "rtttl2\\All Saints - Pure Shores .txt\n",
      "rtttl2\\American National Anthen .txt\n",
      "rtttl2\\Angel Theme .txt\n",
      "rtttl2\\Animaniacs Theme .txt\n",
      "rtttl2\\Ann Lee - Two Times .txt\n",
      "rtttl2\\Aqua - Cartoon Heroes .txt\n",
      "rtttl2\\Armand Van Halen - Koochy .txt\n",
      "rtttl2\\Armand van Halen - You dont know me .txt\n",
      "rtttl2\\ATB f. Miss Jane - Its A Fine Day .txt\n",
      "rtttl2\\ATC - Around The World .txt\n",
      "rtttl2\\Atomic Kitten - Whole Again .txt\n",
      "rtttl2\\Austin Powers Theme .txt\n",
      "rtttl2\\Australian National Anthem .txt\n",
      "rtttl2\\Bach - Brandenburg Concerto No.3 Allegro .txt\n",
      "rtttl2\\Bach - Minuet .txt\n",
      "rtttl2\\Bach - Toccata .txt\n",
      "rtttl2\\BackStreet Boys - As Long As You .txt\n",
      "rtttl2\\Backstreet Boys - Larger Than Life .txt\n",
      "rtttl2\\Backstreet Boys - More Than That .txt\n",
      "rtttl2\\Backstreet Boys - Quit Playing Games With My Heart .txt\n",
      "rtttl2\\Backstreet Boys - Shape Of My Heart .txt\n",
      "rtttl2\\Backstreet Boys - The Call .txt\n",
      "rtttl2\\Baha Men - Who Let The Dogs Out .txt\n",
      "rtttl2\\Bare Naked Ladies - One Week .txt\n",
      "rtttl2\\BBMak - Back Here .txt\n",
      "rtttl2\\Beatles - All you need is love .txt\n",
      "rtttl2\\Beatles - Give peace a chance .txt\n",
      "rtttl2\\Beatles - Hard days night .txt\n",
      "rtttl2\\Beatles - She loves you .txt\n",
      "rtttl2\\Bee Gees - Staying Alive .txt\n",
      "rtttl2\\Beenie Man - Girls Dem Sugar .txt\n",
      "rtttl2\\Beethovem - Fur Elise .txt\n",
      "rtttl2\\Beethoven - 5th Symphony .txt\n",
      "rtttl2\\Beethoven - Fur Elise .txt\n",
      "rtttl2\\Beethoven - Violin Concerto no1 in D .txt\n",
      "rtttl2\\Beverly Hills Cop Theme .txt\n",
      "rtttl2\\Big Brother Theme .txt\n",
      "rtttl2\\Big Pimpin - Oh No Mix .txt\n",
      "rtttl2\\Big Tymers - #1 Stunna .txt\n",
      "rtttl2\\Black Robb - Whoa .txt\n",
      "rtttl2\\Blackout - Mr DJ .txt\n",
      "rtttl2\\Blink 182 - All The Small Things .txt\n",
      "rtttl2\\Blink 182 - Dammit .txt\n",
      "rtttl2\\Blink 182 - Man Overboard .txt\n",
      "rtttl2\\Blink 182 - Rock Show .txt\n",
      "rtttl2\\Bloodhound Gang - The Bad Touch .txt\n",
      "rtttl2\\Blur - Song 2 .txt\n",
      "rtttl2\\Bob The Builder - Can We Fix It .txt\n",
      "rtttl2\\Bomfunk MCs - Freestyler .txt\n",
      "rtttl2\\Boyz II Men - End Of The Road .txt\n",
      "rtttl2\\Brandy feat. Ray J - Another Day In Paradise (Chorus) .txt\n",
      "rtttl2\\Brandy feat. Ray J - Another Day In Paradise .txt\n",
      "rtttl2\\Brian McKnight - Anytime .txt\n",
      "rtttl2\\Brian McKnight - Back At One .txt\n",
      "rtttl2\\British National Anthem .txt\n",
      "rtttl2\\Britney Spears - Dont Let Me Be The Last To Know .txt\n",
      "rtttl2\\Britney Spears - Drive Me Crazy .txt\n",
      "rtttl2\\Britney Spears - From The Bottom Of My Broken Heart .txt\n",
      "rtttl2\\Britney Spears - Lucky .txt\n",
      "rtttl2\\Britney Spears - Oops I Did It again .txt\n",
      "rtttl2\\Britney Spears - Sometimes .txt\n",
      "rtttl2\\Britney Spears - Stronger .txt\n",
      "rtttl2\\Brunei National Anthem .txt\n",
      "rtttl2\\Buffy The Vampire Slayer Theme .txt\n",
      "rtttl2\\Celine Dion - Thats the Way it is .txt\n",
      "rtttl2\\Chante Moore - Straight Up .txt\n",
      "rtttl2\\Charlies Angels Theme .txt\n",
      "rtttl2\\Cherry - Saddest Song .txt\n",
      "rtttl2\\Chicago Bulls Theme .txt\n",
      "rtttl2\\Chicane feat. Bryan Adams - Dont Give Up .txt\n",
      "rtttl2\\China Crisis - Wishful Thinking .txt\n",
      "rtttl2\\Christina Aguilera & Ricky Martin - Nobody Wants To Be Lonely .txt\n",
      "rtttl2\\Christina Aguilera - Come On Over .txt\n",
      "rtttl2\\Christina Aguilera - Genie In A Bottle .txt\n",
      "rtttl2\\Christina Aguilera - I Turn To You .txt\n",
      "rtttl2\\Christina Aguilera, Lil Kim, Mya and Pink - Lady Marmalade .txt\n",
      "rtttl2\\Counter Strike - Time Bomb .txt\n",
      "rtttl2\\Craig David - Fill Me In .txt\n",
      "rtttl2\\Craig David - Rendevous .txt\n",
      "rtttl2\\Craig David - Seven Days .txt\n",
      "rtttl2\\Craig David - Seven Days Intro .txt\n",
      "rtttl2\\Craig David - Walking Away .txt\n",
      "rtttl2\\Crayon Shinchan Theme .txt\n",
      "rtttl2\\Crazy Town - Butterfly .txt\n",
      "rtttl2\\Creed - Higher .txt\n",
      "rtttl2\\Cypress Hill - Rap Superstar .txt\n",
      "rtttl2\\D-12 feat. Eminem - Shit On You .txt\n",
      "rtttl2\\D12 - Purple Pills .txt\n",
      "rtttl2\\Da Muttz - Wazzup! .txt\n",
      "rtttl2\\Daddy DJ - Daddy DJ .txt\n",
      "rtttl2\\Dallas Theme .txt\n",
      "rtttl2\\Dane Bowers - Shut Up and Forget About It .txt\n",
      "rtttl2\\Darude - Feel The Beat .txt\n",
      "rtttl2\\Darude - Sandstorm .txt\n",
      "rtttl2\\David Pomeran - King And Queen Of Hearts .txt\n",
      "rtttl2\\Dawsons Creek Theme .txt\n",
      "rtttl2\\Deadstar - Deeper Water .txt\n",
      "rtttl2\\Debelah Morgan - Dance With Me .txt\n",
      "rtttl2\\Deep Space 9 Theme .txt\n",
      "rtttl2\\Destinys Child - Bills Bills Bills .txt\n",
      "rtttl2\\Destinys Child - Bug A Boo .txt\n",
      "rtttl2\\Destinys Child - Independent Women .txt\n",
      "rtttl2\\Destinys Child - Jumpin Jumpin .txt\n",
      "rtttl2\\Destinys Child - Say My Name .txt\n",
      "rtttl2\\Destinys Child - Survivor (Edited) .txt\n",
      "rtttl2\\Destinys Child - Survivor (Intro) .txt\n",
      "rtttl2\\DJ Alligator Project - Blow My Whistle Bitch .txt\n",
      "rtttl2\\DJ Jean - The Launch .txt\n",
      "rtttl2\\DJ Luck and MC Neat - A Little Bit Of Luck .txt\n",
      "rtttl2\\DJ Luck and MC Neat - Piano Loco .txt\n",
      "rtttl2\\Dj Quicksilver - Bellisima .txt\n",
      "rtttl2\\DJ Sakin - Braveheart .txt\n",
      "rtttl2\\DMX & Black Robb Mix .txt\n",
      "rtttl2\\DMX - Ruff Ryders Anthem .txt\n",
      "rtttl2\\DMX - What They Want feat. Sisqo .txt\n",
      "rtttl2\\Don McLane - American Pie .txt\n",
      "rtttl2\\Donkey Kong Country Theme .txt\n",
      "rtttl2\\Doraemon Theme .txt\n",
      "rtttl2\\Dr. Dre - Still D.R.E .txt\n",
      "rtttl2\\Dr. Dre feat. Eminem - Forgot About Dre .txt\n",
      "rtttl2\\Dr. Dre feat. Snoop Doggy Dogg - The Next Episode .txt\n",
      "rtttl2\\Dragonball Z Theme .txt\n",
      "rtttl2\\Dream - He Loves You Not (Chorus) .txt\n",
      "rtttl2\\Dream - He Loves You Not (Intro) .txt\n",
      "rtttl2\\Dru Hill - How Deep Is Your Love .txt\n",
      "rtttl2\\Dru Hill - These Are The Times .txt\n",
      "rtttl2\\Dumdum boys - Bulletme .txt\n",
      "rtttl2\\Eastenders Theme .txt\n",
      "rtttl2\\Eiffel 65 - Another Race .txt\n",
      "rtttl2\\Eiffel 65 - Blue .txt\n",
      "rtttl2\\Eiffel 65 - Move Your Body .txt\n",
      "rtttl2\\Eiffel 65 - Too Much Of Heaven .txt\n",
      "rtttl2\\Eminem - Amityville (Dum Daa Dum..) .txt\n",
      "rtttl2\\Eminem - As The World Turns .txt\n",
      "rtttl2\\Eminem - Bitch Please II .txt\n",
      "rtttl2\\Eminem - Drug Ballad .txt\n",
      "rtttl2\\Eminem - Kill You .txt\n",
      "rtttl2\\Eminem - Kim .txt\n",
      "rtttl2\\Eminem - Marshall Mathers .txt\n",
      "rtttl2\\Eminem - My Fault .txt\n",
      "rtttl2\\Eminem - My Name Is .txt\n",
      "rtttl2\\Eminem - Role Model .txt\n",
      "rtttl2\\Eminem - Stan .txt\n",
      "rtttl2\\Eminem - The Real Slim Shady .txt\n",
      "rtttl2\\Eminem - The Way I Am .txt\n",
      "rtttl2\\Eminem - Under The Influence .txt\n",
      "rtttl2\\Eminem - Who Knew .txt\n",
      "rtttl2\\Eminem feat. Dr Dre - Guilty Conscience .txt\n",
      "rtttl2\\Emma Bunton - What Took You So Long .txt\n",
      "rtttl2\\Enrique Iglesias - Be With You .txt\n",
      "rtttl2\\Eric Gadd - Do You Believe In Me .txt\n",
      "rtttl2\\ET Theme .txt\n",
      "rtttl2\\Eve - Gotta Man .txt\n",
      "rtttl2\\Eve - Who Dat Girl .txt\n",
      "rtttl2\\Eve feat. Gwen Stefani - Let Me Blow Your Mind .txt\n",
      "rtttl2\\Exorcist Theme .txt\n",
      "rtttl2\\Final Fantasy 7 Theme .txt\n",
      "rtttl2\\Five - Dont Wanna Let You Go .txt\n",
      "rtttl2\\Five - If Ya Getting Down .txt\n",
      "rtttl2\\Flashdance - What A Feeling .txt\n",
      "rtttl2\\Formula 1 Theme .txt\n",
      "rtttl2\\Fragma - Everytime You Need Me .txt\n",
      "rtttl2\\Fragma - Tocas Miracle .txt\n",
      "rtttl2\\Fredro Starr - Shining Through .txt\n",
      "rtttl2\\French National Anthem .txt\n",
      "rtttl2\\Friends Theme .txt\n",
      "rtttl2\\George Michael - Careless Whisper .txt\n",
      "rtttl2\\German National Anthem .txt\n",
      "rtttl2\\Get Smart Theme .txt\n",
      "rtttl2\\Ghostbusters Theme .txt\n",
      "rtttl2\\Gorillaz - Clint Eastwood .txt\n",
      "rtttl2\\Grease - Summer Nights .txt\n",
      "rtttl2\\Greatest American Hero Theme .txt\n",
      "rtttl2\\Green Day - Minority .txt\n",
      "rtttl2\\Gwyneth Paltrow and Huey Lewis - Cruisin .txt\n",
      "rtttl2\\Hanson - If Only .txt\n",
      "rtttl2\\Happy Days Theme .txt\n",
      "rtttl2\\HearSay - Pure And Simple .txt\n",
      "rtttl2\\Indigo Girls - Power Of Two .txt\n",
      "rtttl2\\Indonesian National Anthem .txt\n",
      "rtttl2\\Ini Kamoze - Here Comes The Hot Stepper .txt\n",
      "rtttl2\\INOJ - All I Want .txt\n",
      "rtttl2\\INOJ - Wait For You .txt\n",
      "rtttl2\\Inspector Gadget Theme .txt\n",
      "rtttl2\\Irish National Anthem .txt\n",
      "rtttl2\\Italian National Anthem .txt\n",
      "rtttl2\\Itchy And Scratchy Theme .txt\n",
      "rtttl2\\Ja Rule - Between Me And You .txt\n",
      "rtttl2\\Jagged Edge - Lets Get Married (So So Def Remix) .txt\n",
      "rtttl2\\Jagged Edge - Where The Party At (Chorus) .txt\n",
      "rtttl2\\Jagged Edge - Where The Party At (Intro) .txt\n",
      "rtttl2\\James Bond - The World Is Not Enough .txt\n",
      "rtttl2\\James Bond - Tommorrow Never Dies .txt\n",
      "rtttl2\\James Bond - You Live Only Twice .txt\n",
      "rtttl2\\James Bond Theme .txt\n",
      "rtttl2\\Zombie Nation - Kernkraft 400 .txt\n"
     ]
    }
   ],
   "source": [
    "import os\n",
    "\n",
    "path_to_data = 'rtttl2'\n",
    "\n",
    "notes = []\n",
    "durations = []\n",
    "octaves = []\n",
    "dots = []\n",
    "\n",
    "result = []\n",
    "i = 0\n",
    "for file_name in os.listdir(path_to_data):\n",
    "    if file_name.endswith('.txt'):\n",
    "        file_path = os.path.join(path_to_data, file_name)\n",
    "\n",
    "        with open(file_path, 'r', encoding = 'ISO-8859-1') as file_:\n",
    "            print(file_path)\n",
    "            lines = file_.readlines()\n",
    "            try:\n",
    "                for line in lines:\n",
    "                    # print(line)\n",
    "                    if line is None:\n",
    "                        continue\n",
    "\n",
    "                    if line.strip() == '':\n",
    "                        continue\n",
    "\n",
    "                    line = line.strip()\n",
    "                    line = line.strip(',')\n",
    "                    tunes = parse_rtttl(line.strip())\n",
    "                    for tune in tunes['notes']:\n",
    "\n",
    "                        duration = tune['duration']\n",
    "                        note_str = tune['pitch'].lower()  # normalize to lowercase\n",
    "                        # note = note_to_int[note_str]\n",
    "                        # note = note_str\n",
    "                        is_dotted = 1 if tune['dot'] else 0\n",
    "                        octave = tune['octave']\n",
    "                        notes.append(note_str)\n",
    "                        durations.append(duration)\n",
    "                        octaves.append(octave)\n",
    "                        dots.append(is_dotted)\n",
    "\n",
    "                        result.append((duration, note_str, octave, is_dotted))\n",
    "            except ValueError as e:\n",
    "                print(file_path)\n",
    "                print(e)"
   ]
  },
  {
   "cell_type": "code",
   "execution_count": null,
   "metadata": {},
   "outputs": [],
   "source": []
  },
  {
   "cell_type": "code",
   "execution_count": null,
   "metadata": {},
   "outputs": [],
   "source": []
  },
  {
   "cell_type": "code",
   "execution_count": null,
   "metadata": {},
   "outputs": [],
   "source": []
  },
  {
   "cell_type": "code",
   "execution_count": null,
   "metadata": {},
   "outputs": [],
   "source": []
  },
  {
   "cell_type": "code",
   "execution_count": null,
   "metadata": {},
   "outputs": [],
   "source": []
  },
  {
   "cell_type": "code",
   "execution_count": 27,
   "metadata": {
    "tags": []
   },
   "outputs": [],
   "source": [
    "note_names = sorted(set([note for note in notes]))\n",
    "n_diff_notes = len(set(notes))\n",
    "\n",
    "duration_names = sorted(set([duration for duration in durations]))\n",
    "n_diff_durations = len(set(durations))\n",
    "\n",
    "octave_names = sorted(set([octave for octave in octaves]))\n",
    "n_diff_octaves = len(set(octaves))\n",
    "\n",
    "dot_names = sorted(set([dot for dot in dots]))\n",
    "n_diff_dots = len(set(dots))"
   ]
  },
  {
   "cell_type": "code",
   "execution_count": null,
   "metadata": {},
   "outputs": [],
   "source": []
  },
  {
   "cell_type": "code",
   "execution_count": 28,
   "metadata": {
    "tags": []
   },
   "outputs": [
    {
     "data": {
      "text/plain": [
       "['a', 'a#', 'b', 'c', 'c#', 'd', 'd#', 'e', 'f', 'f#', 'g', 'g#', 'p']"
      ]
     },
     "execution_count": 28,
     "metadata": {},
     "output_type": "execute_result"
    }
   ],
   "source": [
    "note_names"
   ]
  },
  {
   "cell_type": "code",
   "execution_count": 29,
   "metadata": {
    "tags": []
   },
   "outputs": [
    {
     "data": {
      "text/plain": [
       "[1, 2, 4, 8, 16, 32]"
      ]
     },
     "execution_count": 29,
     "metadata": {},
     "output_type": "execute_result"
    }
   ],
   "source": [
    "duration_names"
   ]
  },
  {
   "cell_type": "code",
   "execution_count": 30,
   "metadata": {
    "tags": []
   },
   "outputs": [
    {
     "data": {
      "text/plain": [
       "[5, 6, 7]"
      ]
     },
     "execution_count": 30,
     "metadata": {},
     "output_type": "execute_result"
    }
   ],
   "source": [
    "octave_names"
   ]
  },
  {
   "cell_type": "code",
   "execution_count": 31,
   "metadata": {
    "tags": []
   },
   "outputs": [],
   "source": [
    "note_to_int = {}\n",
    "index = 1\n",
    "for note_name in note_names:\n",
    "    if note_name not in note_to_int:\n",
    "        note_to_int[note_name] = index\n",
    "        index += 1\n",
    "        \n",
    "duration_to_int = {}\n",
    "index = 1\n",
    "for duration_name in duration_names:\n",
    "    if duration_name not in duration_to_int:\n",
    "        duration_to_int[duration_name] = index\n",
    "        index += 1\n",
    "        \n",
    "octave_to_int = {}\n",
    "index = 1\n",
    "for octave_name in octave_names:\n",
    "    if octave_name not in octave_to_int:\n",
    "        octave_to_int[octave_name] = index\n",
    "        index += 1\n",
    "        \n",
    "dot_to_int = {}\n",
    "index = 1\n",
    "for dot_name in dot_names:\n",
    "    if dot_name not in dot_to_int:\n",
    "        dot_to_int[dot_name] = index\n",
    "        index += 1"
   ]
  },
  {
   "cell_type": "code",
   "execution_count": 32,
   "metadata": {
    "tags": []
   },
   "outputs": [],
   "source": [
    "int_to_note = {index: note_name for note_name, index in note_to_int.items()}\n",
    "int_to_duration = {index: duration_name for duration_name, index in duration_to_int.items()}\n",
    "int_to_octave = {index: octave_name for octave_name, index in octave_to_int.items()}\n",
    "int_to_dot = {index: dot_name for dot_name, index in dot_to_int.items()}"
   ]
  },
  {
   "cell_type": "code",
   "execution_count": 33,
   "metadata": {
    "tags": []
   },
   "outputs": [
    {
     "data": {
      "text/plain": [
       "{'a': 1,\n",
       " 'a#': 2,\n",
       " 'b': 3,\n",
       " 'c': 4,\n",
       " 'c#': 5,\n",
       " 'd': 6,\n",
       " 'd#': 7,\n",
       " 'e': 8,\n",
       " 'f': 9,\n",
       " 'f#': 10,\n",
       " 'g': 11,\n",
       " 'g#': 12,\n",
       " 'p': 13}"
      ]
     },
     "execution_count": 33,
     "metadata": {},
     "output_type": "execute_result"
    }
   ],
   "source": [
    "note_to_int"
   ]
  },
  {
   "cell_type": "code",
   "execution_count": 34,
   "metadata": {
    "tags": []
   },
   "outputs": [],
   "source": [
    "def encode_input(sequence):\n",
    "    encoded_sequence = []\n",
    "\n",
    "    for duration, note, octave, dot in sequence:\n",
    "        # One-hot encode duration using predefined allowed durations\n",
    "        duration_one_hot = np.zeros(len(duration_names))\n",
    "        duration_index = duration_names.index(duration)\n",
    "        duration_one_hot[duration_index] = 1\n",
    "\n",
    "        # One-hot encode note (13 possible values)\n",
    "        note_one_hot = np.zeros(len(note_names))\n",
    "        note_index = note_names.index(note)\n",
    "        note_one_hot[note_index] = 1\n",
    "\n",
    "        # One-hot encode octave using predefined allowed octaves\n",
    "        octave_one_hot = np.zeros(len(octave_names))\n",
    "        octave_index = octave_names.index(octave)\n",
    "        octave_one_hot[octave_index] = 1\n",
    "\n",
    "        # Encode dot (0 or 1)\n",
    "        encoded_dot = np.array([dot])\n",
    "\n",
    "        # Concatenate the one-hot vectors and dot into a single encoded vector\n",
    "        encoded_vector = np.concatenate([duration_one_hot, note_one_hot, octave_one_hot, encoded_dot])\n",
    "\n",
    "        encoded_sequence.append(encoded_vector)\n",
    "    \n",
    "    return np.array(encoded_sequence)"
   ]
  },
  {
   "cell_type": "code",
   "execution_count": 35,
   "metadata": {
    "tags": []
   },
   "outputs": [],
   "source": [
    "from tqdm import tqdm"
   ]
  },
  {
   "cell_type": "code",
   "execution_count": 47,
   "metadata": {
    "colab": {
     "base_uri": "https://localhost:8080/"
    },
    "id": "OqvhdlFogJzL",
    "outputId": "fe64651a-18c5-4580-bbaa-9d0ecf050131",
    "tags": []
   },
   "outputs": [
    {
     "name": "stderr",
     "output_type": "stream",
     "text": [
      "100%|████████████████████████████████████████████████████████████████████████████| 8275/8275 [00:02<00:00, 3752.84it/s]\n"
     ]
    }
   ],
   "source": [
    "sequenceLength = 50\n",
    "\n",
    "networkInput = []\n",
    "networkOutput = []\n",
    "n = len(result)\n",
    "\n",
    "\n",
    "for i in tqdm(range(0, n - sequenceLength)):\n",
    "    sequenceIn = result[i : i + sequenceLength ] \n",
    "    sequenceOut = result[ i + sequenceLength]  \n",
    "    \n",
    "    networkInput.append(encode_input(sequenceIn))\n",
    "    networkOutput.append(encode_input([sequenceOut]))"
   ]
  },
  {
   "cell_type": "code",
   "execution_count": 48,
   "metadata": {
    "tags": []
   },
   "outputs": [],
   "source": [
    "networkInput = np.array(networkInput)\n",
    "networkOutput = np.array(networkOutput)"
   ]
  },
  {
   "cell_type": "code",
   "execution_count": 49,
   "metadata": {
    "tags": []
   },
   "outputs": [],
   "source": [
    "networkOutput = np.squeeze(networkOutput, axis=1) # fix "
   ]
  },
  {
   "cell_type": "code",
   "execution_count": 50,
   "metadata": {
    "tags": []
   },
   "outputs": [
    {
     "data": {
      "text/plain": [
       "(8275, 50, 23)"
      ]
     },
     "execution_count": 50,
     "metadata": {},
     "output_type": "execute_result"
    }
   ],
   "source": [
    "networkInput.shape"
   ]
  },
  {
   "cell_type": "code",
   "execution_count": 51,
   "metadata": {
    "tags": []
   },
   "outputs": [
    {
     "data": {
      "text/plain": [
       "(8275, 23)"
      ]
     },
     "execution_count": 51,
     "metadata": {},
     "output_type": "execute_result"
    }
   ],
   "source": [
    "networkOutput.shape"
   ]
  },
  {
   "cell_type": "code",
   "execution_count": 52,
   "metadata": {
    "tags": []
   },
   "outputs": [],
   "source": [
    "nPatterns = len(networkInput)\n"
   ]
  },
  {
   "cell_type": "code",
   "execution_count": 53,
   "metadata": {
    "tags": []
   },
   "outputs": [
    {
     "data": {
      "text/plain": [
       "8275"
      ]
     },
     "execution_count": 53,
     "metadata": {},
     "output_type": "execute_result"
    }
   ],
   "source": [
    "nPatterns"
   ]
  },
  {
   "cell_type": "code",
   "execution_count": 54,
   "metadata": {
    "tags": []
   },
   "outputs": [
    {
     "data": {
      "text/plain": [
       "(8, 'c', 6, 0)"
      ]
     },
     "execution_count": 54,
     "metadata": {},
     "output_type": "execute_result"
    }
   ],
   "source": [
    "result[0]"
   ]
  },
  {
   "cell_type": "code",
   "execution_count": 55,
   "metadata": {
    "tags": []
   },
   "outputs": [
    {
     "data": {
      "text/plain": [
       "array([0., 0., 0., 1., 0., 0., 0., 0., 0., 1., 0., 0., 0., 0., 0., 0., 0.,\n",
       "       0., 0., 0., 1., 0., 0.])"
      ]
     },
     "execution_count": 55,
     "metadata": {},
     "output_type": "execute_result"
    }
   ],
   "source": [
    "networkInput[0][0]"
   ]
  },
  {
   "cell_type": "code",
   "execution_count": 56,
   "metadata": {
    "tags": []
   },
   "outputs": [
    {
     "data": {
      "text/plain": [
       "(8, 'b', 6, 1)"
      ]
     },
     "execution_count": 56,
     "metadata": {},
     "output_type": "execute_result"
    }
   ],
   "source": [
    "result[50]"
   ]
  },
  {
   "cell_type": "code",
   "execution_count": 57,
   "metadata": {
    "tags": []
   },
   "outputs": [
    {
     "data": {
      "text/plain": [
       "array([0., 0., 0., 1., 0., 0., 0., 0., 1., 0., 0., 0., 0., 0., 0., 0., 0.,\n",
       "       0., 0., 0., 1., 0., 1.])"
      ]
     },
     "execution_count": 57,
     "metadata": {},
     "output_type": "execute_result"
    }
   ],
   "source": [
    "networkOutput[0]"
   ]
  },
  {
   "cell_type": "code",
   "execution_count": 58,
   "metadata": {
    "tags": []
   },
   "outputs": [
    {
     "data": {
      "text/plain": [
       "(8275, 50, 23)"
      ]
     },
     "execution_count": 58,
     "metadata": {},
     "output_type": "execute_result"
    }
   ],
   "source": [
    "networkInput.shape"
   ]
  },
  {
   "cell_type": "code",
   "execution_count": 57,
   "metadata": {
    "tags": []
   },
   "outputs": [
    {
     "data": {
      "text/plain": [
       "(8276, 23)"
      ]
     },
     "execution_count": 57,
     "metadata": {},
     "output_type": "execute_result"
    }
   ],
   "source": [
    "networkOutput.shape"
   ]
  },
  {
   "cell_type": "code",
   "execution_count": 242,
   "metadata": {
    "tags": []
   },
   "outputs": [],
   "source": [
    "# input is encoded propertly."
   ]
  },
  {
   "cell_type": "code",
   "execution_count": 30,
   "metadata": {
    "tags": []
   },
   "outputs": [],
   "source": [
    "import logging\n",
    "logging.basicConfig(filename='elmanrr.log', format='%(levelname)s:%(message)s', filemode='w', level=logging.DEBUG)\n",
    "logger = logging.getLogger()\n",
    "# logging.debug('This message should go to the log file1 2 3 ')"
   ]
  },
  {
   "cell_type": "code",
   "execution_count": 31,
   "metadata": {
    "tags": []
   },
   "outputs": [],
   "source": [
    "# https://en.wikipedia.org/wiki/Backpropagation_through_time  Backpropagation through time (BPTT) is a gradient-based technique for training certain types of recurrent neural networks. It can be used to train Elman networks. The algorithm was independently derived by numerous researchers."
   ]
  },
  {
   "cell_type": "code",
   "execution_count": 116,
   "metadata": {
    "tags": []
   },
   "outputs": [],
   "source": [
    "import tensorflow as tf\n",
    "from tqdm import tqdm\n",
    "\n",
    "logger.disabled = True\n",
    "\n",
    "class ElmanRNN(tf.keras.Model):\n",
    "    def __init__(self, hidden_size, output_size):\n",
    "        super().__init__()\n",
    "        self.hidden_layer = tf.keras.layers.Dense(hidden_size, activation='tanh')\n",
    "        self.hidden_layer2 = tf.keras.layers.Dense(hidden_size, activation='relu')\n",
    "        self.output_layer = tf.keras.layers.Dense(output_size)\n",
    "\n",
    "    def call(self, inputs, initial_state):\n",
    "        sequence_length = inputs.shape[1]\n",
    "        # logger.debug(f'sequence_length {sequence_length}')\n",
    "        outputs = []\n",
    "        hidden_state = initial_state \n",
    "        # logger.debug(f'hidden_state {hidden_state.shape}')\n",
    "        for t in range(sequence_length):\n",
    "            x_t = inputs[:, t, :] # Get the current input at time t \n",
    "            # logger.debug(f'x_t shape {x_t.shape}') \n",
    "            combined = tf.concat([x_t, hidden_state], axis=1) \n",
    "            # logger.debug(f'combined_shape: {combined.shape}')\n",
    "            hidden_state = self.hidden_layer(combined)\n",
    "            hidden_state = self.hidden_layer2(hidden_state)\n",
    "            # logger.debug(f'hidden_state shape: {hidden_state.shape}')\n",
    "            # output = self.output_layer(hidden_state)\n",
    "            # logger.debug(f'output shape  {output.shape}')\n",
    "            # outputs.append(output)\n",
    "            # logger.debug('\\n')\n",
    "        output = self.output_layer(hidden_state)\n",
    "        return output, hidden_state"
   ]
  },
  {
   "cell_type": "code",
   "execution_count": 117,
   "metadata": {},
   "outputs": [],
   "source": [
    "logger.disabled = False"
   ]
  },
  {
   "cell_type": "code",
   "execution_count": 118,
   "metadata": {
    "tags": []
   },
   "outputs": [],
   "source": [
    "logger.disabled = True"
   ]
  },
  {
   "cell_type": "code",
   "execution_count": 119,
   "metadata": {
    "tags": []
   },
   "outputs": [
    {
     "data": {
      "text/plain": [
       "(8275, 50, 23)"
      ]
     },
     "execution_count": 119,
     "metadata": {},
     "output_type": "execute_result"
    }
   ],
   "source": [
    "networkInput.shape"
   ]
  },
  {
   "cell_type": "code",
   "execution_count": 120,
   "metadata": {
    "tags": []
   },
   "outputs": [],
   "source": [
    "hidden_size = 256\n",
    "output_size = networkInput.shape[2]\n",
    "# input_dim = 24\n",
    "learning_rate = 0.001\n",
    "# input_size = 24\n",
    "epochs = 100"
   ]
  },
  {
   "cell_type": "code",
   "execution_count": 121,
   "metadata": {
    "tags": []
   },
   "outputs": [],
   "source": [
    "train_dataset = tf.data.Dataset.from_tensor_slices(networkInput).batch(64)\n",
    "labels = tf.data.Dataset.from_tensor_slices(networkOutput).batch(64)"
   ]
  },
  {
   "cell_type": "code",
   "execution_count": 122,
   "metadata": {
    "tags": []
   },
   "outputs": [],
   "source": [
    "model = ElmanRNN(hidden_size, output_size)"
   ]
  },
  {
   "cell_type": "code",
   "execution_count": 123,
   "metadata": {
    "tags": []
   },
   "outputs": [],
   "source": [
    "def split_and_calculate_loss2(target, out):\n",
    "    # Split the tensors\n",
    "    target_splits = tf.split(target, [6, 13, 3, 1], axis=-1)\n",
    "    out_splits = tf.split(out, [6, 13, 3, 1], axis=-1)\n",
    "    \n",
    "    # Calculate loss for each split\n",
    "    loss_splits = []\n",
    "    for i, (t, o) in enumerate(zip(target_splits, out_splits)):\n",
    "        if i == 3:  # The last split with size 1\n",
    "            loss = tf.keras.losses.binary_crossentropy(t, o, from_logits=True)\n",
    "        else:\n",
    "            loss = tf.keras.losses.categorical_crossentropy(t, o, from_logits=True)\n",
    "            \n",
    "        # loss = tf.reduce_mean(loss, axis=-1)\n",
    "        loss_splits.append(loss)\n",
    "    \n",
    "    # Combine the losses \n",
    "    combined_loss = tf.reduce_mean(tf.stack(loss_splits, axis=-1))\n",
    "    \n",
    "    return combined_loss"
   ]
  },
  {
   "cell_type": "code",
   "execution_count": 124,
   "metadata": {
    "tags": []
   },
   "outputs": [],
   "source": [
    "def split_and_calculate_loss(target, out):\n",
    "    # Idea is to split tensor in format that was first introdused, and then apply loss on parts of tensor\n",
    "    # So i split it in 6, 13, 3, 1\n",
    "\n",
    "    # Split the tensors\n",
    "    target_splits = tf.split(target, [6, 13, 3, 1], axis=-1)\n",
    "    out_splits = tf.split(out, [6, 13, 3, 1], axis=-1)\n",
    "    \n",
    "    # Calculate loss for each split\n",
    "    loss_splits = []\n",
    "    for i, (t, o) in enumerate(zip(target_splits, out_splits)):\n",
    "        # labels = tf.cast(tf.squeeze(t, axis=-1), dtype=tf.float32)\n",
    "        # logits = tf.cast(tf.squeeze(o, axis=-1), dtype=tf.float32)\n",
    "        if i == 3:  # The last split with size 1\n",
    "            loss = tf.nn.sigmoid_cross_entropy_with_logits(labels=tf.cast(tf.squeeze(t, axis=-1), dtype=tf.float32), logits=tf.cast(tf.squeeze(o, axis=-1), dtype=tf.float32))\n",
    "        else:\n",
    "            loss = tf.nn.softmax_cross_entropy_with_logits(labels=t, logits=o)  # should i use softmax with logits here ? \n",
    "        loss_splits.append(loss)\n",
    "    \n",
    "    # Combine the losses, use mean\n",
    "    combined_loss = tf.reduce_mean(tf.stack(loss_splits, axis=-1))\n",
    "    \n",
    "    return combined_loss"
   ]
  },
  {
   "cell_type": "code",
   "execution_count": 241,
   "metadata": {
    "tags": []
   },
   "outputs": [],
   "source": [
    "optimizer = tf.optimizers.Adam(learning_rate=0.001)"
   ]
  },
  {
   "cell_type": "code",
   "execution_count": 126,
   "metadata": {
    "tags": []
   },
   "outputs": [
    {
     "name": "stdout",
     "output_type": "stream",
     "text": [
      "Epoch 1/100\n"
     ]
    },
    {
     "name": "stderr",
     "output_type": "stream",
     "text": [
      "Loss: 1.026706: 100%|████████████████████████████████████████████████████████████████████████████████████████| 130/130 \n"
     ]
    },
    {
     "name": "stdout",
     "output_type": "stream",
     "text": [
      "Epoch 2/100\n"
     ]
    },
    {
     "name": "stderr",
     "output_type": "stream",
     "text": [
      "Loss: 0.957193: 100%|████████████████████████████████████████████████████████████████████████████████████████| 130/130 \n"
     ]
    },
    {
     "name": "stdout",
     "output_type": "stream",
     "text": [
      "Epoch 3/100\n"
     ]
    },
    {
     "name": "stderr",
     "output_type": "stream",
     "text": [
      "Loss: 0.916524: 100%|████████████████████████████████████████████████████████████████████████████████████████| 130/130 \n"
     ]
    },
    {
     "name": "stdout",
     "output_type": "stream",
     "text": [
      "Epoch 4/100\n"
     ]
    },
    {
     "name": "stderr",
     "output_type": "stream",
     "text": [
      "Loss: 0.917292: 100%|████████████████████████████████████████████████████████████████████████████████████████| 130/130 \n"
     ]
    },
    {
     "name": "stdout",
     "output_type": "stream",
     "text": [
      "Epoch 5/100\n"
     ]
    },
    {
     "name": "stderr",
     "output_type": "stream",
     "text": [
      "Loss: 0.905014: 100%|████████████████████████████████████████████████████████████████████████████████████████| 130/130 \n"
     ]
    },
    {
     "name": "stdout",
     "output_type": "stream",
     "text": [
      "Epoch 6/100\n"
     ]
    },
    {
     "name": "stderr",
     "output_type": "stream",
     "text": [
      "Loss: 0.848744: 100%|████████████████████████████████████████████████████████████████████████████████████████| 130/130 \n"
     ]
    },
    {
     "name": "stdout",
     "output_type": "stream",
     "text": [
      "Epoch 7/100\n"
     ]
    },
    {
     "name": "stderr",
     "output_type": "stream",
     "text": [
      "Loss: 0.819350: 100%|████████████████████████████████████████████████████████████████████████████████████████| 130/130 \n"
     ]
    },
    {
     "name": "stdout",
     "output_type": "stream",
     "text": [
      "Epoch 8/100\n"
     ]
    },
    {
     "name": "stderr",
     "output_type": "stream",
     "text": [
      "Loss: 0.753037: 100%|████████████████████████████████████████████████████████████████████████████████████████| 130/130 \n"
     ]
    },
    {
     "name": "stdout",
     "output_type": "stream",
     "text": [
      "Epoch 9/100\n"
     ]
    },
    {
     "name": "stderr",
     "output_type": "stream",
     "text": [
      "Loss: 0.739159: 100%|████████████████████████████████████████████████████████████████████████████████████████| 130/130 \n"
     ]
    },
    {
     "name": "stdout",
     "output_type": "stream",
     "text": [
      "Epoch 10/100\n"
     ]
    },
    {
     "name": "stderr",
     "output_type": "stream",
     "text": [
      "Loss: 0.696891: 100%|████████████████████████████████████████████████████████████████████████████████████████| 130/130 \n"
     ]
    },
    {
     "name": "stdout",
     "output_type": "stream",
     "text": [
      "Epoch 11/100\n"
     ]
    },
    {
     "name": "stderr",
     "output_type": "stream",
     "text": [
      "Loss: 0.719288: 100%|████████████████████████████████████████████████████████████████████████████████████████| 130/130 \n"
     ]
    },
    {
     "name": "stdout",
     "output_type": "stream",
     "text": [
      "Epoch 12/100\n"
     ]
    },
    {
     "name": "stderr",
     "output_type": "stream",
     "text": [
      "Loss: 0.676162: 100%|████████████████████████████████████████████████████████████████████████████████████████| 130/130 \n"
     ]
    },
    {
     "name": "stdout",
     "output_type": "stream",
     "text": [
      "Epoch 13/100\n"
     ]
    },
    {
     "name": "stderr",
     "output_type": "stream",
     "text": [
      "Loss: 0.631427: 100%|████████████████████████████████████████████████████████████████████████████████████████| 130/130 \n"
     ]
    },
    {
     "name": "stdout",
     "output_type": "stream",
     "text": [
      "Epoch 14/100\n"
     ]
    },
    {
     "name": "stderr",
     "output_type": "stream",
     "text": [
      "Loss: 0.615383: 100%|████████████████████████████████████████████████████████████████████████████████████████| 130/130 \n"
     ]
    },
    {
     "name": "stdout",
     "output_type": "stream",
     "text": [
      "Epoch 15/100\n"
     ]
    },
    {
     "name": "stderr",
     "output_type": "stream",
     "text": [
      "Loss: 0.579719: 100%|████████████████████████████████████████████████████████████████████████████████████████| 130/130 \n"
     ]
    },
    {
     "name": "stdout",
     "output_type": "stream",
     "text": [
      "Epoch 16/100\n"
     ]
    },
    {
     "name": "stderr",
     "output_type": "stream",
     "text": [
      "Loss: 0.575082: 100%|████████████████████████████████████████████████████████████████████████████████████████| 130/130 \n"
     ]
    },
    {
     "name": "stdout",
     "output_type": "stream",
     "text": [
      "Epoch 17/100\n"
     ]
    },
    {
     "name": "stderr",
     "output_type": "stream",
     "text": [
      "Loss: 0.618445: 100%|████████████████████████████████████████████████████████████████████████████████████████| 130/130 \n"
     ]
    },
    {
     "name": "stdout",
     "output_type": "stream",
     "text": [
      "Epoch 18/100\n"
     ]
    },
    {
     "name": "stderr",
     "output_type": "stream",
     "text": [
      "Loss: 0.542891: 100%|████████████████████████████████████████████████████████████████████████████████████████| 130/130 \n"
     ]
    },
    {
     "name": "stdout",
     "output_type": "stream",
     "text": [
      "Epoch 19/100\n"
     ]
    },
    {
     "name": "stderr",
     "output_type": "stream",
     "text": [
      "Loss: 0.549414: 100%|████████████████████████████████████████████████████████████████████████████████████████| 130/130 \n"
     ]
    },
    {
     "name": "stdout",
     "output_type": "stream",
     "text": [
      "Epoch 20/100\n"
     ]
    },
    {
     "name": "stderr",
     "output_type": "stream",
     "text": [
      "Loss: 0.532645: 100%|████████████████████████████████████████████████████████████████████████████████████████| 130/130 \n"
     ]
    },
    {
     "name": "stdout",
     "output_type": "stream",
     "text": [
      "Epoch 21/100\n"
     ]
    },
    {
     "name": "stderr",
     "output_type": "stream",
     "text": [
      "Loss: 0.517737: 100%|████████████████████████████████████████████████████████████████████████████████████████| 130/130 \n"
     ]
    },
    {
     "name": "stdout",
     "output_type": "stream",
     "text": [
      "Epoch 22/100\n"
     ]
    },
    {
     "name": "stderr",
     "output_type": "stream",
     "text": [
      "Loss: 0.456203: 100%|████████████████████████████████████████████████████████████████████████████████████████| 130/130 \n"
     ]
    },
    {
     "name": "stdout",
     "output_type": "stream",
     "text": [
      "Epoch 23/100\n"
     ]
    },
    {
     "name": "stderr",
     "output_type": "stream",
     "text": [
      "Loss: 0.491958: 100%|████████████████████████████████████████████████████████████████████████████████████████| 130/130 \n"
     ]
    },
    {
     "name": "stdout",
     "output_type": "stream",
     "text": [
      "Epoch 24/100\n"
     ]
    },
    {
     "name": "stderr",
     "output_type": "stream",
     "text": [
      "Loss: 0.472759: 100%|████████████████████████████████████████████████████████████████████████████████████████| 130/130 \n"
     ]
    },
    {
     "name": "stdout",
     "output_type": "stream",
     "text": [
      "Epoch 25/100\n"
     ]
    },
    {
     "name": "stderr",
     "output_type": "stream",
     "text": [
      "Loss: 0.340135: 100%|████████████████████████████████████████████████████████████████████████████████████████| 130/130 \n"
     ]
    },
    {
     "name": "stdout",
     "output_type": "stream",
     "text": [
      "Epoch 26/100\n"
     ]
    },
    {
     "name": "stderr",
     "output_type": "stream",
     "text": [
      "Loss: 0.397200: 100%|████████████████████████████████████████████████████████████████████████████████████████| 130/130 \n"
     ]
    },
    {
     "name": "stdout",
     "output_type": "stream",
     "text": [
      "Epoch 27/100\n"
     ]
    },
    {
     "name": "stderr",
     "output_type": "stream",
     "text": [
      "Loss: 0.377800: 100%|████████████████████████████████████████████████████████████████████████████████████████| 130/130 \n"
     ]
    },
    {
     "name": "stdout",
     "output_type": "stream",
     "text": [
      "Epoch 28/100\n"
     ]
    },
    {
     "name": "stderr",
     "output_type": "stream",
     "text": [
      "Loss: 0.313441: 100%|████████████████████████████████████████████████████████████████████████████████████████| 130/130 \n"
     ]
    },
    {
     "name": "stdout",
     "output_type": "stream",
     "text": [
      "Epoch 29/100\n"
     ]
    },
    {
     "name": "stderr",
     "output_type": "stream",
     "text": [
      "Loss: 0.365700: 100%|████████████████████████████████████████████████████████████████████████████████████████| 130/130 \n"
     ]
    },
    {
     "name": "stdout",
     "output_type": "stream",
     "text": [
      "Epoch 30/100\n"
     ]
    },
    {
     "name": "stderr",
     "output_type": "stream",
     "text": [
      "Loss: 0.446793: 100%|████████████████████████████████████████████████████████████████████████████████████████| 130/130 \n"
     ]
    },
    {
     "name": "stdout",
     "output_type": "stream",
     "text": [
      "Epoch 31/100\n"
     ]
    },
    {
     "name": "stderr",
     "output_type": "stream",
     "text": [
      "Loss: 0.282132: 100%|████████████████████████████████████████████████████████████████████████████████████████| 130/130 \n"
     ]
    },
    {
     "name": "stdout",
     "output_type": "stream",
     "text": [
      "Epoch 32/100\n"
     ]
    },
    {
     "name": "stderr",
     "output_type": "stream",
     "text": [
      "Loss: 0.322709: 100%|████████████████████████████████████████████████████████████████████████████████████████| 130/130 \n"
     ]
    },
    {
     "name": "stdout",
     "output_type": "stream",
     "text": [
      "Epoch 33/100\n"
     ]
    },
    {
     "name": "stderr",
     "output_type": "stream",
     "text": [
      "Loss: 0.222651: 100%|████████████████████████████████████████████████████████████████████████████████████████| 130/130 \n"
     ]
    },
    {
     "name": "stdout",
     "output_type": "stream",
     "text": [
      "Epoch 34/100\n"
     ]
    },
    {
     "name": "stderr",
     "output_type": "stream",
     "text": [
      "Loss: 0.226806: 100%|████████████████████████████████████████████████████████████████████████████████████████| 130/130 \n"
     ]
    },
    {
     "name": "stdout",
     "output_type": "stream",
     "text": [
      "Epoch 35/100\n"
     ]
    },
    {
     "name": "stderr",
     "output_type": "stream",
     "text": [
      "Loss: 0.322866: 100%|████████████████████████████████████████████████████████████████████████████████████████| 130/130 \n"
     ]
    },
    {
     "name": "stdout",
     "output_type": "stream",
     "text": [
      "Epoch 36/100\n"
     ]
    },
    {
     "name": "stderr",
     "output_type": "stream",
     "text": [
      "Loss: 0.240220: 100%|████████████████████████████████████████████████████████████████████████████████████████| 130/130 \n"
     ]
    },
    {
     "name": "stdout",
     "output_type": "stream",
     "text": [
      "Epoch 37/100\n"
     ]
    },
    {
     "name": "stderr",
     "output_type": "stream",
     "text": [
      "Loss: 0.205337: 100%|████████████████████████████████████████████████████████████████████████████████████████| 130/130 \n"
     ]
    },
    {
     "name": "stdout",
     "output_type": "stream",
     "text": [
      "Epoch 38/100\n"
     ]
    },
    {
     "name": "stderr",
     "output_type": "stream",
     "text": [
      "Loss: 0.231934: 100%|████████████████████████████████████████████████████████████████████████████████████████| 130/130 \n"
     ]
    },
    {
     "name": "stdout",
     "output_type": "stream",
     "text": [
      "Epoch 39/100\n"
     ]
    },
    {
     "name": "stderr",
     "output_type": "stream",
     "text": [
      "Loss: 0.206349: 100%|████████████████████████████████████████████████████████████████████████████████████████| 130/130 \n"
     ]
    },
    {
     "name": "stdout",
     "output_type": "stream",
     "text": [
      "Epoch 40/100\n"
     ]
    },
    {
     "name": "stderr",
     "output_type": "stream",
     "text": [
      "Loss: 0.165332: 100%|████████████████████████████████████████████████████████████████████████████████████████| 130/130 \n"
     ]
    },
    {
     "name": "stdout",
     "output_type": "stream",
     "text": [
      "Epoch 41/100\n"
     ]
    },
    {
     "name": "stderr",
     "output_type": "stream",
     "text": [
      "Loss: 0.150824: 100%|████████████████████████████████████████████████████████████████████████████████████████| 130/130 \n"
     ]
    },
    {
     "name": "stdout",
     "output_type": "stream",
     "text": [
      "Epoch 42/100\n"
     ]
    },
    {
     "name": "stderr",
     "output_type": "stream",
     "text": [
      "Loss: 0.205703: 100%|████████████████████████████████████████████████████████████████████████████████████████| 130/130 \n"
     ]
    },
    {
     "name": "stdout",
     "output_type": "stream",
     "text": [
      "Epoch 43/100\n"
     ]
    },
    {
     "name": "stderr",
     "output_type": "stream",
     "text": [
      "Loss: 0.142318: 100%|████████████████████████████████████████████████████████████████████████████████████████| 130/130 \n"
     ]
    },
    {
     "name": "stdout",
     "output_type": "stream",
     "text": [
      "Epoch 44/100\n"
     ]
    },
    {
     "name": "stderr",
     "output_type": "stream",
     "text": [
      "Loss: 0.141001: 100%|████████████████████████████████████████████████████████████████████████████████████████| 130/130 \n"
     ]
    },
    {
     "name": "stdout",
     "output_type": "stream",
     "text": [
      "Epoch 45/100\n"
     ]
    },
    {
     "name": "stderr",
     "output_type": "stream",
     "text": [
      "Loss: 0.214431: 100%|████████████████████████████████████████████████████████████████████████████████████████| 130/130 \n"
     ]
    },
    {
     "name": "stdout",
     "output_type": "stream",
     "text": [
      "Epoch 46/100\n"
     ]
    },
    {
     "name": "stderr",
     "output_type": "stream",
     "text": [
      "Loss: 0.136776: 100%|████████████████████████████████████████████████████████████████████████████████████████| 130/130 \n"
     ]
    },
    {
     "name": "stdout",
     "output_type": "stream",
     "text": [
      "Epoch 47/100\n"
     ]
    },
    {
     "name": "stderr",
     "output_type": "stream",
     "text": [
      "Loss: 0.121067: 100%|████████████████████████████████████████████████████████████████████████████████████████| 130/130 \n"
     ]
    },
    {
     "name": "stdout",
     "output_type": "stream",
     "text": [
      "Epoch 48/100\n"
     ]
    },
    {
     "name": "stderr",
     "output_type": "stream",
     "text": [
      "Loss: 0.133222: 100%|████████████████████████████████████████████████████████████████████████████████████████| 130/130 \n"
     ]
    },
    {
     "name": "stdout",
     "output_type": "stream",
     "text": [
      "Epoch 49/100\n"
     ]
    },
    {
     "name": "stderr",
     "output_type": "stream",
     "text": [
      "Loss: 0.099057: 100%|████████████████████████████████████████████████████████████████████████████████████████| 130/130 \n"
     ]
    },
    {
     "name": "stdout",
     "output_type": "stream",
     "text": [
      "Epoch 50/100\n"
     ]
    },
    {
     "name": "stderr",
     "output_type": "stream",
     "text": [
      "Loss: 0.114208: 100%|████████████████████████████████████████████████████████████████████████████████████████| 130/130 \n"
     ]
    },
    {
     "name": "stdout",
     "output_type": "stream",
     "text": [
      "Epoch 51/100\n"
     ]
    },
    {
     "name": "stderr",
     "output_type": "stream",
     "text": [
      "Loss: 0.134284: 100%|████████████████████████████████████████████████████████████████████████████████████████| 130/130 \n"
     ]
    },
    {
     "name": "stdout",
     "output_type": "stream",
     "text": [
      "Epoch 52/100\n"
     ]
    },
    {
     "name": "stderr",
     "output_type": "stream",
     "text": [
      "Loss: 0.111713: 100%|████████████████████████████████████████████████████████████████████████████████████████| 130/130 \n"
     ]
    },
    {
     "name": "stdout",
     "output_type": "stream",
     "text": [
      "Epoch 53/100\n"
     ]
    },
    {
     "name": "stderr",
     "output_type": "stream",
     "text": [
      "Loss: 0.096929: 100%|████████████████████████████████████████████████████████████████████████████████████████| 130/130 \n"
     ]
    },
    {
     "name": "stdout",
     "output_type": "stream",
     "text": [
      "Epoch 54/100\n"
     ]
    },
    {
     "name": "stderr",
     "output_type": "stream",
     "text": [
      "Loss: 0.079634: 100%|████████████████████████████████████████████████████████████████████████████████████████| 130/130 \n"
     ]
    },
    {
     "name": "stdout",
     "output_type": "stream",
     "text": [
      "Epoch 55/100\n"
     ]
    },
    {
     "name": "stderr",
     "output_type": "stream",
     "text": [
      "Loss: 0.091695: 100%|████████████████████████████████████████████████████████████████████████████████████████| 130/130 \n"
     ]
    },
    {
     "name": "stdout",
     "output_type": "stream",
     "text": [
      "Epoch 56/100\n"
     ]
    },
    {
     "name": "stderr",
     "output_type": "stream",
     "text": [
      "Loss: 0.103896: 100%|████████████████████████████████████████████████████████████████████████████████████████| 130/130 \n"
     ]
    },
    {
     "name": "stdout",
     "output_type": "stream",
     "text": [
      "Epoch 57/100\n"
     ]
    },
    {
     "name": "stderr",
     "output_type": "stream",
     "text": [
      "Loss: 0.102442: 100%|████████████████████████████████████████████████████████████████████████████████████████| 130/130 \n"
     ]
    },
    {
     "name": "stdout",
     "output_type": "stream",
     "text": [
      "Epoch 58/100\n"
     ]
    },
    {
     "name": "stderr",
     "output_type": "stream",
     "text": [
      "Loss: 0.145228: 100%|████████████████████████████████████████████████████████████████████████████████████████| 130/130 \n"
     ]
    },
    {
     "name": "stdout",
     "output_type": "stream",
     "text": [
      "Epoch 59/100\n"
     ]
    },
    {
     "name": "stderr",
     "output_type": "stream",
     "text": [
      "Loss: 0.112267: 100%|████████████████████████████████████████████████████████████████████████████████████████| 130/130 \n"
     ]
    },
    {
     "name": "stdout",
     "output_type": "stream",
     "text": [
      "Epoch 60/100\n"
     ]
    },
    {
     "name": "stderr",
     "output_type": "stream",
     "text": [
      "Loss: 0.062722: 100%|████████████████████████████████████████████████████████████████████████████████████████| 130/130 \n"
     ]
    },
    {
     "name": "stdout",
     "output_type": "stream",
     "text": [
      "Epoch 61/100\n"
     ]
    },
    {
     "name": "stderr",
     "output_type": "stream",
     "text": [
      "Loss: 0.136690: 100%|████████████████████████████████████████████████████████████████████████████████████████| 130/130 \n"
     ]
    },
    {
     "name": "stdout",
     "output_type": "stream",
     "text": [
      "Epoch 62/100\n"
     ]
    },
    {
     "name": "stderr",
     "output_type": "stream",
     "text": [
      "Loss: 0.114771: 100%|████████████████████████████████████████████████████████████████████████████████████████| 130/130 \n"
     ]
    },
    {
     "name": "stdout",
     "output_type": "stream",
     "text": [
      "Epoch 63/100\n"
     ]
    },
    {
     "name": "stderr",
     "output_type": "stream",
     "text": [
      "Loss: 0.111806: 100%|████████████████████████████████████████████████████████████████████████████████████████| 130/130 \n"
     ]
    },
    {
     "name": "stdout",
     "output_type": "stream",
     "text": [
      "Epoch 64/100\n"
     ]
    },
    {
     "name": "stderr",
     "output_type": "stream",
     "text": [
      "Loss: 0.066224: 100%|████████████████████████████████████████████████████████████████████████████████████████| 130/130 \n"
     ]
    },
    {
     "name": "stdout",
     "output_type": "stream",
     "text": [
      "Epoch 65/100\n"
     ]
    },
    {
     "name": "stderr",
     "output_type": "stream",
     "text": [
      "Loss: 0.072662: 100%|████████████████████████████████████████████████████████████████████████████████████████| 130/130 \n"
     ]
    },
    {
     "name": "stdout",
     "output_type": "stream",
     "text": [
      "Epoch 66/100\n"
     ]
    },
    {
     "name": "stderr",
     "output_type": "stream",
     "text": [
      "Loss: 0.111814: 100%|████████████████████████████████████████████████████████████████████████████████████████| 130/130 \n"
     ]
    },
    {
     "name": "stdout",
     "output_type": "stream",
     "text": [
      "Epoch 67/100\n"
     ]
    },
    {
     "name": "stderr",
     "output_type": "stream",
     "text": [
      "Loss: 0.109936: 100%|████████████████████████████████████████████████████████████████████████████████████████| 130/130 \n"
     ]
    },
    {
     "name": "stdout",
     "output_type": "stream",
     "text": [
      "Epoch 68/100\n"
     ]
    },
    {
     "name": "stderr",
     "output_type": "stream",
     "text": [
      "Loss: 0.070477: 100%|████████████████████████████████████████████████████████████████████████████████████████| 130/130 \n"
     ]
    },
    {
     "name": "stdout",
     "output_type": "stream",
     "text": [
      "Epoch 69/100\n"
     ]
    },
    {
     "name": "stderr",
     "output_type": "stream",
     "text": [
      "Loss: 0.046624: 100%|████████████████████████████████████████████████████████████████████████████████████████| 130/130 \n"
     ]
    },
    {
     "name": "stdout",
     "output_type": "stream",
     "text": [
      "Epoch 70/100\n"
     ]
    },
    {
     "name": "stderr",
     "output_type": "stream",
     "text": [
      "Loss: 0.103822: 100%|████████████████████████████████████████████████████████████████████████████████████████| 130/130 \n"
     ]
    },
    {
     "name": "stdout",
     "output_type": "stream",
     "text": [
      "Epoch 71/100\n"
     ]
    },
    {
     "name": "stderr",
     "output_type": "stream",
     "text": [
      "Loss: 0.066396: 100%|████████████████████████████████████████████████████████████████████████████████████████| 130/130 \n"
     ]
    },
    {
     "name": "stdout",
     "output_type": "stream",
     "text": [
      "Epoch 72/100\n"
     ]
    },
    {
     "name": "stderr",
     "output_type": "stream",
     "text": [
      "Loss: 0.062623: 100%|████████████████████████████████████████████████████████████████████████████████████████| 130/130 \n"
     ]
    },
    {
     "name": "stdout",
     "output_type": "stream",
     "text": [
      "Epoch 73/100\n"
     ]
    },
    {
     "name": "stderr",
     "output_type": "stream",
     "text": [
      "Loss: 0.118771: 100%|████████████████████████████████████████████████████████████████████████████████████████| 130/130 \n"
     ]
    },
    {
     "name": "stdout",
     "output_type": "stream",
     "text": [
      "Epoch 74/100\n"
     ]
    },
    {
     "name": "stderr",
     "output_type": "stream",
     "text": [
      "Loss: 0.080582: 100%|████████████████████████████████████████████████████████████████████████████████████████| 130/130 \n"
     ]
    },
    {
     "name": "stdout",
     "output_type": "stream",
     "text": [
      "Epoch 75/100\n"
     ]
    },
    {
     "name": "stderr",
     "output_type": "stream",
     "text": [
      "Loss: 0.056545: 100%|████████████████████████████████████████████████████████████████████████████████████████| 130/130 \n"
     ]
    },
    {
     "name": "stdout",
     "output_type": "stream",
     "text": [
      "Epoch 76/100\n"
     ]
    },
    {
     "name": "stderr",
     "output_type": "stream",
     "text": [
      "Loss: 0.088489: 100%|████████████████████████████████████████████████████████████████████████████████████████| 130/130 \n"
     ]
    },
    {
     "name": "stdout",
     "output_type": "stream",
     "text": [
      "Epoch 77/100\n"
     ]
    },
    {
     "name": "stderr",
     "output_type": "stream",
     "text": [
      "Loss: 0.151470: 100%|████████████████████████████████████████████████████████████████████████████████████████| 130/130 \n"
     ]
    },
    {
     "name": "stdout",
     "output_type": "stream",
     "text": [
      "Epoch 78/100\n"
     ]
    },
    {
     "name": "stderr",
     "output_type": "stream",
     "text": [
      "Loss: 0.149914: 100%|████████████████████████████████████████████████████████████████████████████████████████| 130/130 \n"
     ]
    },
    {
     "name": "stdout",
     "output_type": "stream",
     "text": [
      "Epoch 79/100\n"
     ]
    },
    {
     "name": "stderr",
     "output_type": "stream",
     "text": [
      "Loss: 0.076129: 100%|████████████████████████████████████████████████████████████████████████████████████████| 130/130 \n"
     ]
    },
    {
     "name": "stdout",
     "output_type": "stream",
     "text": [
      "Epoch 80/100\n"
     ]
    },
    {
     "name": "stderr",
     "output_type": "stream",
     "text": [
      "Loss: 0.051521: 100%|████████████████████████████████████████████████████████████████████████████████████████| 130/130 \n"
     ]
    },
    {
     "name": "stdout",
     "output_type": "stream",
     "text": [
      "Epoch 81/100\n"
     ]
    },
    {
     "name": "stderr",
     "output_type": "stream",
     "text": [
      "Loss: 0.091379: 100%|████████████████████████████████████████████████████████████████████████████████████████| 130/130 \n"
     ]
    },
    {
     "name": "stdout",
     "output_type": "stream",
     "text": [
      "Epoch 82/100\n"
     ]
    },
    {
     "name": "stderr",
     "output_type": "stream",
     "text": [
      "Loss: 0.053104: 100%|████████████████████████████████████████████████████████████████████████████████████████| 130/130 \n"
     ]
    },
    {
     "name": "stdout",
     "output_type": "stream",
     "text": [
      "Epoch 83/100\n"
     ]
    },
    {
     "name": "stderr",
     "output_type": "stream",
     "text": [
      "Loss: 0.037915: 100%|████████████████████████████████████████████████████████████████████████████████████████| 130/130 \n"
     ]
    },
    {
     "name": "stdout",
     "output_type": "stream",
     "text": [
      "Epoch 84/100\n"
     ]
    },
    {
     "name": "stderr",
     "output_type": "stream",
     "text": [
      "Loss: 0.043292: 100%|████████████████████████████████████████████████████████████████████████████████████████| 130/130 \n"
     ]
    },
    {
     "name": "stdout",
     "output_type": "stream",
     "text": [
      "Epoch 85/100\n"
     ]
    },
    {
     "name": "stderr",
     "output_type": "stream",
     "text": [
      "Loss: 0.027947: 100%|████████████████████████████████████████████████████████████████████████████████████████| 130/130 \n"
     ]
    },
    {
     "name": "stdout",
     "output_type": "stream",
     "text": [
      "Epoch 86/100\n"
     ]
    },
    {
     "name": "stderr",
     "output_type": "stream",
     "text": [
      "Loss: 0.029685: 100%|████████████████████████████████████████████████████████████████████████████████████████| 130/130 \n"
     ]
    },
    {
     "name": "stdout",
     "output_type": "stream",
     "text": [
      "Epoch 87/100\n"
     ]
    },
    {
     "name": "stderr",
     "output_type": "stream",
     "text": [
      "Loss: 0.056794: 100%|████████████████████████████████████████████████████████████████████████████████████████| 130/130 \n"
     ]
    },
    {
     "name": "stdout",
     "output_type": "stream",
     "text": [
      "Epoch 88/100\n"
     ]
    },
    {
     "name": "stderr",
     "output_type": "stream",
     "text": [
      "Loss: 0.023771: 100%|████████████████████████████████████████████████████████████████████████████████████████| 130/130 \n"
     ]
    },
    {
     "name": "stdout",
     "output_type": "stream",
     "text": [
      "Epoch 89/100\n"
     ]
    },
    {
     "name": "stderr",
     "output_type": "stream",
     "text": [
      "Loss: 0.053115: 100%|████████████████████████████████████████████████████████████████████████████████████████| 130/130 \n"
     ]
    },
    {
     "name": "stdout",
     "output_type": "stream",
     "text": [
      "Epoch 90/100\n"
     ]
    },
    {
     "name": "stderr",
     "output_type": "stream",
     "text": [
      "Loss: 0.050112: 100%|████████████████████████████████████████████████████████████████████████████████████████| 130/130 \n"
     ]
    },
    {
     "name": "stdout",
     "output_type": "stream",
     "text": [
      "Epoch 91/100\n"
     ]
    },
    {
     "name": "stderr",
     "output_type": "stream",
     "text": [
      "Loss: 0.181624: 100%|████████████████████████████████████████████████████████████████████████████████████████| 130/130 \n"
     ]
    },
    {
     "name": "stdout",
     "output_type": "stream",
     "text": [
      "Epoch 92/100\n"
     ]
    },
    {
     "name": "stderr",
     "output_type": "stream",
     "text": [
      "Loss: 0.309914: 100%|████████████████████████████████████████████████████████████████████████████████████████| 130/130 \n"
     ]
    },
    {
     "name": "stdout",
     "output_type": "stream",
     "text": [
      "Epoch 93/100\n"
     ]
    },
    {
     "name": "stderr",
     "output_type": "stream",
     "text": [
      "Loss: 0.373957: 100%|████████████████████████████████████████████████████████████████████████████████████████| 130/130 \n"
     ]
    },
    {
     "name": "stdout",
     "output_type": "stream",
     "text": [
      "Epoch 94/100\n"
     ]
    },
    {
     "name": "stderr",
     "output_type": "stream",
     "text": [
      "Loss: 0.453946: 100%|████████████████████████████████████████████████████████████████████████████████████████| 130/130 \n"
     ]
    },
    {
     "name": "stdout",
     "output_type": "stream",
     "text": [
      "Epoch 95/100\n"
     ]
    },
    {
     "name": "stderr",
     "output_type": "stream",
     "text": [
      "Loss: 0.424567: 100%|████████████████████████████████████████████████████████████████████████████████████████| 130/130 \n"
     ]
    },
    {
     "name": "stdout",
     "output_type": "stream",
     "text": [
      "Epoch 96/100\n"
     ]
    },
    {
     "name": "stderr",
     "output_type": "stream",
     "text": [
      "Loss: 0.196906: 100%|████████████████████████████████████████████████████████████████████████████████████████| 130/130 \n"
     ]
    },
    {
     "name": "stdout",
     "output_type": "stream",
     "text": [
      "Epoch 97/100\n"
     ]
    },
    {
     "name": "stderr",
     "output_type": "stream",
     "text": [
      "Loss: 0.139296: 100%|████████████████████████████████████████████████████████████████████████████████████████| 130/130 \n"
     ]
    },
    {
     "name": "stdout",
     "output_type": "stream",
     "text": [
      "Epoch 98/100\n"
     ]
    },
    {
     "name": "stderr",
     "output_type": "stream",
     "text": [
      "Loss: 0.036000: 100%|████████████████████████████████████████████████████████████████████████████████████████| 130/130 \n"
     ]
    },
    {
     "name": "stdout",
     "output_type": "stream",
     "text": [
      "Epoch 99/100\n"
     ]
    },
    {
     "name": "stderr",
     "output_type": "stream",
     "text": [
      "Loss: 0.048205: 100%|████████████████████████████████████████████████████████████████████████████████████████| 130/130 \n"
     ]
    },
    {
     "name": "stdout",
     "output_type": "stream",
     "text": [
      "Epoch 100/100\n"
     ]
    },
    {
     "name": "stderr",
     "output_type": "stream",
     "text": [
      "Loss: 0.036446: 100%|████████████████████████████████████████████████████████████████████████████████████████| 130/130 \n"
     ]
    }
   ],
   "source": [
    "for epoch in range(1, epochs+1):\n",
    "    print(f\"Epoch {epoch}/{epochs}\")\n",
    "    logger.debug(f\"Epoch {epoch}/{epochs}\")\n",
    "    with tqdm(total=len(train_dataset), desc=\"Loss\", bar_format=\"{l_bar}{bar}| {n_fmt}/{total_fmt} \") as pbar:\n",
    "        for batch, label in zip(train_dataset, labels):\n",
    "            initial_hidden_state = tf.zeros((batch.shape[0], hidden_size))\n",
    "            # print(initial_hidden_state)\n",
    "            with tf.GradientTape() as tape:\n",
    "                output, _ = model(batch, initial_hidden_state)\n",
    "                \n",
    "                # targets = batch[:, 1:, :] \n",
    "                # outs = outputs[:, :-1, :]\n",
    "                # print(targets.shape)\n",
    "                # print(outs.shape)\n",
    "                \n",
    "                loss = split_and_calculate_loss(label, output)\n",
    "                # print(loss)\n",
    "            gradients = tape.gradient(loss, model.trainable_variables)\n",
    "            optimizer.apply_gradients(zip(gradients, model.trainable_variables))\n",
    "            pbar.set_description(f\"Loss: {loss:.6f}\")\n",
    "            pbar.update(1)"
   ]
  },
  {
   "cell_type": "code",
   "execution_count": null,
   "metadata": {
    "tags": []
   },
   "outputs": [],
   "source": [
    "history = model.fit(networkInput, networkOutput, epochs=100, batch_size=32, validation_split=0.2)"
   ]
  },
  {
   "cell_type": "code",
   "execution_count": null,
   "metadata": {},
   "outputs": [],
   "source": []
  },
  {
   "cell_type": "code",
   "execution_count": 112,
   "metadata": {
    "tags": []
   },
   "outputs": [
    {
     "name": "stdout",
     "output_type": "stream",
     "text": [
      "INFO:tensorflow:Assets written to: best_model\\assets\n"
     ]
    }
   ],
   "source": [
    "model.save('best_model', save_format='tf')"
   ]
  },
  {
   "cell_type": "code",
   "execution_count": 2,
   "metadata": {},
   "outputs": [],
   "source": [
    "from matplotlib import pyplot as plt"
   ]
  },
  {
   "cell_type": "code",
   "execution_count": null,
   "metadata": {},
   "outputs": [],
   "source": []
  },
  {
   "cell_type": "code",
   "execution_count": 3,
   "metadata": {
    "tags": []
   },
   "outputs": [
    {
     "data": {
      "image/png": "[encoded data removed]",
      "text/plain": [
       "<Figure size 640x480 with 1 Axes>"
      ]
     },
     "metadata": {},
     "output_type": "display_data"
    }
   ],
   "source": [
    "loss_values = [\n",
    "    1.026706, 0.957193, 0.916524, 0.917292, 0.905014,\n",
    "    0.848744, 0.819350, 0.753037, 0.739159, 0.696891,\n",
    "    0.719288, 0.676162, 0.631427, 0.615383, 0.579719,\n",
    "    0.575082, 0.618445, 0.542891, 0.549414, 0.532645,\n",
    "    0.517737, 0.456203, 0.491958, 0.472759, 0.340135,\n",
    "    0.397200, 0.377800, 0.313441, 0.365700, 0.446793,\n",
    "    0.282132, 0.322709, 0.222651, 0.226806, 0.322866,\n",
    "    0.240220, 0.205337, 0.231934, 0.206349, 0.165332,\n",
    "    0.150824, 0.205703, 0.142318, 0.141001, 0.214431,\n",
    "    0.136776, 0.121067, 0.133222, 0.099057, 0.114208,\n",
    "    0.134284, 0.111713, 0.096929, 0.079634, 0.091695,\n",
    "    0.103896, 0.102442, 0.145228, 0.112267, 0.062722,\n",
    "    0.136690, 0.114771, 0.111806, 0.066224, 0.072662,\n",
    "    0.111814, 0.109936, 0.070477, 0.046624, 0.103822,\n",
    "    0.066396, 0.062623, 0.118771, 0.080582, 0.056545,\n",
    "    0.088489, 0.151470, 0.149914, 0.076129, 0.051521,\n",
    "    0.091379, 0.053104, 0.037915, 0.043292, 0.027947,\n",
    "    0.029685, 0.056794, 0.023771, 0.053115, 0.050112,\n",
    "    0.181624, 0.309914, 0.373957, 0.453946, 0.424567,\n",
    "    0.196906, 0.139296, 0.036000, 0.048205, 0.036446\n",
    "]\n",
    "\n",
    "epochs = list(range(1, len(loss_values) + 1))\n",
    "\n",
    "# Create the loss plot\n",
    "plt.plot(epochs, loss_values, marker='o', linestyle='-')\n",
    "plt.title('Training Loss Over Epochs')\n",
    "plt.xlabel('Epochs')\n",
    "plt.ylabel('Loss')\n",
    "plt.grid(True)\n",
    "\n",
    "# Show the plot\n",
    "plt.show()"
   ]
  },
  {
   "cell_type": "code",
   "execution_count": null,
   "metadata": {
    "tags": []
   },
   "outputs": [],
   "source": [
    "print(\"Num GPUs Available: \", len(tf.config.list_physical_devices('GPU')))"
   ]
  },
  {
   "cell_type": "code",
   "execution_count": null,
   "metadata": {
    "tags": []
   },
   "outputs": [],
   "source": [
    "# predicted_notes"
   ]
  },
  {
   "cell_type": "code",
   "execution_count": null,
   "metadata": {
    "tags": []
   },
   "outputs": [],
   "source": [
    "logger.disabled = False"
   ]
  },
  {
   "cell_type": "code",
   "execution_count": 59,
   "metadata": {
    "tags": []
   },
   "outputs": [],
   "source": [
    "def decode_output_tf(encoded_dataset):\n",
    "    decoded_dataset = []\n",
    "    for encoded_sequence in tqdm(encoded_dataset):\n",
    "        decoded_sequence = []\n",
    "        \n",
    "        for encoded_vector in encoded_sequence:\n",
    "            duration_onehot = encoded_vector[:6]\n",
    "            note_onehot = encoded_vector[6:19]\n",
    "            octave_onehot = encoded_vector[19:22]\n",
    "            dot_onehot = [encoded_vector[22]]\n",
    "            \n",
    "            duration = tf.argmax(duration_onehot).numpy()\n",
    "            note = tf.argmax(note_onehot).numpy()\n",
    "            octave = tf.argmax(octave_onehot).numpy()\n",
    "            dot = tf.argmax(dot_onehot).numpy()\n",
    "            \n",
    "             # indexing 1\n",
    "            decoded_sequence.append((duration + 1, note + 1, octave + 1, dot + 1))\n",
    "            \n",
    "        decoded_dataset.append(decoded_sequence)\n",
    "    return np.array(decoded_dataset)"
   ]
  },
  {
   "cell_type": "code",
   "execution_count": 202,
   "metadata": {
    "tags": []
   },
   "outputs": [],
   "source": [
    "def convert_indices_to_values(decoded_dataset):\n",
    "    converted_dataset = []\n",
    "\n",
    "    for decoded_sequence in decoded_dataset:\n",
    "        converted_sequence = []\n",
    "\n",
    "        for duration_idx, note_idx, octave_idx, dot_idx in decoded_sequence:\n",
    "            duration = int_to_duration[duration_idx]\n",
    "            note = int_to_note[note_idx]\n",
    "            octave = int_to_octave[octave_idx]\n",
    "            is_dot = int_to_dot[dot_idx]\n",
    "            \n",
    "            converted_sequence.append((duration, note, octave, is_dot))\n",
    "\n",
    "        converted_dataset.append(converted_sequence)\n",
    "\n",
    "    return np.array(converted_dataset)"
   ]
  },
  {
   "cell_type": "code",
   "execution_count": 23,
   "metadata": {
    "tags": []
   },
   "outputs": [],
   "source": [
    "import random"
   ]
  },
  {
   "cell_type": "code",
   "execution_count": 24,
   "metadata": {
    "tags": []
   },
   "outputs": [],
   "source": [
    "random.seed(2023)"
   ]
  },
  {
   "cell_type": "code",
   "execution_count": null,
   "metadata": {
    "tags": []
   },
   "outputs": [],
   "source": [
    "class MelodyGenerator:\n",
    "    def __init__(self, population_size, num_generations, mutation_rate, crossover_rate, elitism_rate, target_fitness):\n",
    "        self.population_size = population_size\n",
    "        self.num_generations = num_generations\n",
    "        self.mutation_rate = mutation_rate\n",
    "        self.crossover_rate = crossover_rate\n",
    "        self.elitism_rate = elitism_rate\n",
    "        self.target_fitness = target_fitness\n",
    "        self.population = []\n",
    "\n",
    "        self.octaves = octave_names.copy()\n",
    "        self.durations = duration_names.copy()\n",
    "        self.notes = note_names.copy()\n",
    "        self.dots = [0, 1]\n",
    "        \n",
    "        self.hidden_size = 256\n",
    "        \n",
    "    def create_gene(self):\n",
    "        duration = random.choice(self.durations)\n",
    "        note = random.choice(self.notes)\n",
    "        octave = random.choice(self.octaves)\n",
    "        dot = random.choice(self.dots)\n",
    "        \n",
    "        encoded_gene = encode_input([(duration, note, octave, dot)])[0]\n",
    "        return encoded_gene\n",
    "\n",
    "    def create_chromosome(self, length):\n",
    "        return [self.create_gene() for _ in range(length)]\n",
    "\n",
    "    \n",
    "    def fitness_function2(self, chromosome):\n",
    "        final_fitness = 0\n",
    "        initial_hidden_state = tf.zeros((len(chromosome), self.hidden_size))    \n",
    "        notes = [tf.convert_to_tensor([note]) for note in chromosome]\n",
    "        inputs = np.array(notes)\n",
    "        \n",
    "        outputs, _ = model(inputs, initial_hidden_state, training=False)\n",
    "        final_fitness = 0\n",
    "\n",
    "        for i in range(len(chromosome) - 1):\n",
    "            output_note = chromosome[i + 1]\n",
    "            fitness_pair = np.abs(outputs[i, :] - output_note)\n",
    "            final_fitness += np.sum(fitness_pair)\n",
    "\n",
    "        return np.sum(final_fitness)\n",
    "    \n",
    "\n",
    "    def initialize_population(self, length):\n",
    "        self.population = [self.create_chromosome(length) for _ in range(self.population_size)]\n",
    "\n",
    "    def roulette_wheel_selection(self, fitness_scores):\n",
    "        selected_indices = []\n",
    "        total_fitness = sum(fitness_scores)\n",
    "        for _ in range(self.population_size):\n",
    "            rand_val = random.uniform(0, total_fitness)\n",
    "            cumulative_fitness = 0\n",
    "            for i in range(self.population_size):\n",
    "                cumulative_fitness += fitness_scores[i]\n",
    "                if cumulative_fitness > rand_val:\n",
    "                    selected_indices.append(i)\n",
    "                    break\n",
    "        return selected_indices\n",
    "\n",
    "    def swap_mutation(self, chromosome):\n",
    "        mutated_chromosome = chromosome[:]\n",
    "        idx1, idx2 = random.sample(range(len(chromosome)), 2)\n",
    "        mutated_chromosome[idx1], mutated_chromosome[idx2] = mutated_chromosome[idx2], mutated_chromosome[idx1]\n",
    "        return mutated_chromosome\n",
    "\n",
    "    def scramble_mutation(self, chromosome):\n",
    "        mutated_chromosome = chromosome[:]\n",
    "        start, end = sorted(random.sample(range(len(chromosome)), 2))\n",
    "        genes_to_shuffle = mutated_chromosome[start:end]\n",
    "        random.shuffle(genes_to_shuffle)\n",
    "        mutated_chromosome[start:end] = genes_to_shuffle\n",
    "        return mutated_chromosome\n",
    "\n",
    "    def inversion_mutation(self, chromosome):\n",
    "        mutated_chromosome = chromosome[:]\n",
    "        start, end = sorted(random.sample(range(len(chromosome)), 2))\n",
    "        mutated_chromosome[start:end] = reversed(mutated_chromosome[start:end])\n",
    "        return mutated_chromosome\n",
    "\n",
    "    def replace_mutation(self, chromosome):\n",
    "        mutated_chromosome = chromosome[:]\n",
    "        idx = random.randint(0, len(chromosome) - 1)\n",
    "        mutated_chromosome[idx] = self.create_gene()\n",
    "        return mutated_chromosome\n",
    "\n",
    "    def one_point_crossover(self, parent1, parent2):\n",
    "        if random.random() < self.crossover_rate:\n",
    "            crossover_point = random.randint(1, len(parent1) - 1)\n",
    "            child = parent1[:crossover_point] + parent2[crossover_point:]\n",
    "        else:\n",
    "            child = random.choice([parent1, parent2])\n",
    "        return child\n",
    "\n",
    "    def two_point_crossover(self, parent1, parent2):\n",
    "        if random.random() < self.crossover_rate:\n",
    "            start, end = sorted(random.sample(range(len(parent1)), 2))\n",
    "            child = parent1[:start] + parent2[start:end] + parent1[end:]\n",
    "        else:\n",
    "            child = random.choice([parent1, parent2])\n",
    "        return child\n",
    "\n",
    "    def uniform_crossover(self, parent1, parent2):\n",
    "        if random.random() < self.crossover_rate:\n",
    "            child = [random.choice([parent1[i], parent2[i]]) for i in range(len(parent1))]\n",
    "        else:\n",
    "            child = random.choice([parent1, parent2])\n",
    "        return child\n",
    "\n",
    "    def evolve(self, length):\n",
    "        self.initialize_population(length)\n",
    "        \n",
    "        for generation in tqdm(range(self.num_generations)):\n",
    "            fitness_scores = [self.fitness_function2(chromosome) for chromosome in self.population]\n",
    "            # return\n",
    "            #print(fitness_scores)\n",
    "            \n",
    "            best_fit_index = fitness_scores.index(min(fitness_scores))\n",
    "            if fitness_scores[best_fit_index] < self.target_fitness:\n",
    "                best_melody = self.population[best_fit_index]\n",
    "                print(f\"Found a fit melody in generation {generation}: {best_melody}\")\n",
    "                break\n",
    "\n",
    "            selected_indices = self.roulette_wheel_selection(fitness_scores)\n",
    "\n",
    "            new_population = []\n",
    "            while len(new_population) < self.population_size:\n",
    "                parent1_idx, parent2_idx = random.sample(selected_indices, 2)\n",
    "                parent1, parent2 = self.population[parent1_idx], self.population[parent2_idx]\n",
    "\n",
    "                child = self.one_point_crossover(parent1, parent2)\n",
    "\n",
    "                if random.random() < self.mutation_rate:\n",
    "                    mutation_operator = random.choice([self.swap_mutation, self.scramble_mutation, self.inversion_mutation, self.replace_mutation])\n",
    "                    child = mutation_operator(child)\n",
    "\n",
    "                new_population.append(child)\n",
    "\n",
    "            num_elites = int(self.elitism_rate * self.population_size)\n",
    "            elites = sorted(range(len(fitness_scores)), key=lambda i: fitness_scores[i])[:num_elites]\n",
    "            new_population[:num_elites] = [self.population[i] for i in elites]\n",
    "\n",
    "            self.population = new_population\n",
    "\n",
    "\n",
    "generator = MelodyGenerator(\n",
    "    population_size=50,\n",
    "    num_generations=5000,\n",
    "    mutation_rate=0.1,\n",
    "    crossover_rate=0.7,\n",
    "    elitism_rate=0.05,\n",
    "    target_fitness=0.03\n",
    ")\n",
    "\n",
    "\n",
    "generator.evolve(length=50)"
   ]
  },
  {
   "cell_type": "code",
   "execution_count": 79,
   "metadata": {
    "tags": []
   },
   "outputs": [
    {
     "name": "stderr",
     "output_type": "stream",
     "text": [
      "  0%|                                                                            | 284/300000 [00:01<34:26, 145.04it/s]\n"
     ]
    },
    {
     "ename": "KeyboardInterrupt",
     "evalue": "",
     "output_type": "error",
     "traceback": [
      "\u001b[1;31m---------------------------------------------------------------------------\u001b[0m",
      "\u001b[1;31mKeyboardInterrupt\u001b[0m                         Traceback (most recent call last)",
      "Cell \u001b[1;32mIn[79], line 208\u001b[0m\n\u001b[0;32m    197\u001b[0m length \u001b[38;5;241m=\u001b[39m \u001b[38;5;241m50\u001b[39m\n\u001b[0;32m    198\u001b[0m GA_MusicRules_generator \u001b[38;5;241m=\u001b[39m GA_MusicRules(\n\u001b[0;32m    199\u001b[0m     population_size\u001b[38;5;241m=\u001b[39mpopulation_size,\n\u001b[0;32m    200\u001b[0m     num_generations\u001b[38;5;241m=\u001b[39mnum_generations,\n\u001b[1;32m   (...)\u001b[0m\n\u001b[0;32m    204\u001b[0m     target_fitness\u001b[38;5;241m=\u001b[39m\u001b[38;5;241m0.2\u001b[39m\n\u001b[0;32m    205\u001b[0m )\n\u001b[1;32m--> 208\u001b[0m \u001b[43mGA_MusicRules_generator\u001b[49m\u001b[38;5;241;43m.\u001b[39;49m\u001b[43mevolve\u001b[49m\u001b[43m(\u001b[49m\u001b[43mlength\u001b[49m\u001b[38;5;241;43m=\u001b[39;49m\u001b[43mlength\u001b[49m\u001b[43m)\u001b[49m\n",
      "Cell \u001b[1;32mIn[79], line 156\u001b[0m, in \u001b[0;36mGA_MusicRules.evolve\u001b[1;34m(self, length)\u001b[0m\n\u001b[0;32m    154\u001b[0m \u001b[38;5;66;03m# print(self.population)\u001b[39;00m\n\u001b[0;32m    155\u001b[0m \u001b[38;5;28;01mfor\u001b[39;00m generation \u001b[38;5;129;01min\u001b[39;00m tqdm(\u001b[38;5;28mrange\u001b[39m(\u001b[38;5;28mself\u001b[39m\u001b[38;5;241m.\u001b[39mnum_generations)):\n\u001b[1;32m--> 156\u001b[0m     fitness_scores \u001b[38;5;241m=\u001b[39m [\u001b[38;5;28mself\u001b[39m\u001b[38;5;241m.\u001b[39mfitness_function(chromosome) \u001b[38;5;28;01mfor\u001b[39;00m chromosome \u001b[38;5;129;01min\u001b[39;00m \u001b[38;5;28mself\u001b[39m\u001b[38;5;241m.\u001b[39mpopulation]\n\u001b[0;32m    158\u001b[0m     \u001b[38;5;66;03m# print(fitness_scores)\u001b[39;00m\n\u001b[0;32m    159\u001b[0m     \u001b[38;5;66;03m# return\u001b[39;00m\n\u001b[0;32m    160\u001b[0m     \u001b[38;5;66;03m#print(fitness_scores)\u001b[39;00m\n\u001b[0;32m    162\u001b[0m     best_fit_index \u001b[38;5;241m=\u001b[39m fitness_scores\u001b[38;5;241m.\u001b[39mindex(\u001b[38;5;28mmin\u001b[39m(fitness_scores))\n",
      "Cell \u001b[1;32mIn[79], line 156\u001b[0m, in \u001b[0;36m<listcomp>\u001b[1;34m(.0)\u001b[0m\n\u001b[0;32m    154\u001b[0m \u001b[38;5;66;03m# print(self.population)\u001b[39;00m\n\u001b[0;32m    155\u001b[0m \u001b[38;5;28;01mfor\u001b[39;00m generation \u001b[38;5;129;01min\u001b[39;00m tqdm(\u001b[38;5;28mrange\u001b[39m(\u001b[38;5;28mself\u001b[39m\u001b[38;5;241m.\u001b[39mnum_generations)):\n\u001b[1;32m--> 156\u001b[0m     fitness_scores \u001b[38;5;241m=\u001b[39m [\u001b[38;5;28;43mself\u001b[39;49m\u001b[38;5;241;43m.\u001b[39;49m\u001b[43mfitness_function\u001b[49m\u001b[43m(\u001b[49m\u001b[43mchromosome\u001b[49m\u001b[43m)\u001b[49m \u001b[38;5;28;01mfor\u001b[39;00m chromosome \u001b[38;5;129;01min\u001b[39;00m \u001b[38;5;28mself\u001b[39m\u001b[38;5;241m.\u001b[39mpopulation]\n\u001b[0;32m    158\u001b[0m     \u001b[38;5;66;03m# print(fitness_scores)\u001b[39;00m\n\u001b[0;32m    159\u001b[0m     \u001b[38;5;66;03m# return\u001b[39;00m\n\u001b[0;32m    160\u001b[0m     \u001b[38;5;66;03m#print(fitness_scores)\u001b[39;00m\n\u001b[0;32m    162\u001b[0m     best_fit_index \u001b[38;5;241m=\u001b[39m fitness_scores\u001b[38;5;241m.\u001b[39mindex(\u001b[38;5;28mmin\u001b[39m(fitness_scores))\n",
      "Cell \u001b[1;32mIn[79], line 55\u001b[0m, in \u001b[0;36mGA_MusicRules.fitness_function\u001b[1;34m(self, chromosome)\u001b[0m\n\u001b[0;32m     53\u001b[0m diff \u001b[38;5;241m=\u001b[39m \u001b[38;5;28mabs\u001b[39m(note1 \u001b[38;5;241m-\u001b[39m note2)  \u001b[38;5;66;03m# how to calculate this ? \u001b[39;00m\n\u001b[0;32m     54\u001b[0m \u001b[38;5;28;01mif\u001b[39;00m diff \u001b[38;5;241m>\u001b[39m \u001b[38;5;28mself\u001b[39m\u001b[38;5;241m.\u001b[39mmax_step:\n\u001b[1;32m---> 55\u001b[0m     fitness \u001b[38;5;241m+\u001b[39m\u001b[38;5;241m=\u001b[39m \u001b[38;5;241m1.0\u001b[39m  \u001b[38;5;66;03m# Penalize large steps\u001b[39;00m\n\u001b[0;32m     56\u001b[0m \u001b[38;5;28;01mif\u001b[39;00m diff \u001b[38;5;241m>\u001b[39m \u001b[38;5;28mself\u001b[39m\u001b[38;5;241m.\u001b[39mmax_leap:\n\u001b[0;32m     57\u001b[0m     fitness \u001b[38;5;241m+\u001b[39m\u001b[38;5;241m=\u001b[39m \u001b[38;5;241m1.0\u001b[39m  \u001b[38;5;66;03m# Penalize large leaps\u001b[39;00m\n",
      "\u001b[1;31mKeyboardInterrupt\u001b[0m: "
     ]
    }
   ],
   "source": [
    "class GA_MusicRules:\n",
    "    def __init__(self, population_size, num_generations, mutation_rate, crossover_rate, elitism_rate, target_fitness):\n",
    "        self.population_size = population_size\n",
    "        self.num_generations = num_generations\n",
    "        self.mutation_rate = mutation_rate\n",
    "        self.crossover_rate = crossover_rate\n",
    "        self.elitism_rate = elitism_rate\n",
    "        self.target_fitness = target_fitness\n",
    "        self.population = []\n",
    "\n",
    "        self.octaves = [5, 6, 7, 8]\n",
    "        self.durations = duration_names.copy()\n",
    "        self.notes = note_names.copy()\n",
    "        self.dots = [0, 1]\n",
    "        \n",
    "        self.scale = ['c', 'c', 'e', 'f', 'g', 'a', 'b']\n",
    "        self.max_step = 2\n",
    "        self.max_leap = 4\n",
    "        self.proportion_notes_rests = 1.5\n",
    "        self.max_repeating_notes = 2\n",
    "        self.global_pitch_margin = 12\n",
    "        \n",
    "        self.hidden_size = 256\n",
    "        self.best_melody = None\n",
    "        self.best_fitness = None\n",
    "        \n",
    "    def create_gene(self):\n",
    "        duration = random.choice(self.durations)\n",
    "        note = random.choice(self.notes)\n",
    "        octave = random.choice(self.octaves)\n",
    "        dot = random.choice(self.dots)\n",
    "        \n",
    "        # encoded_gene = encode_input([(duration, note, octave, dot)])[0]\n",
    "        return (duration, note, octave, dot)\n",
    "\n",
    "    def create_chromosome(self, length):\n",
    "        return [self.create_gene() for _ in range(length)]\n",
    "    \n",
    "    def fitness_function(self, chromosome):\n",
    "        # Check adherence to musical rules and calculate fitness\n",
    "        fitness = 0.0\n",
    "        \n",
    "        # Scale Rule\n",
    "        # scale_notes = self.scale.split()\n",
    "        for gene in chromosome:\n",
    "            if gene[1] not in self.scale:\n",
    "                fitness += 1.0  # Penalize notes outside the scale\n",
    "        \n",
    "        # Adjacent Notes Rule\n",
    "        for i in range(1, len(chromosome)):\n",
    "            note1 = self.notes.index(chromosome[i-1][1])\n",
    "            note2 = self.notes.index(chromosome[i][1])\n",
    "            diff = abs(note1 - note2)  # how to calculate this ? \n",
    "            if diff > self.max_step:\n",
    "                fitness += 1.0  # Penalize large steps\n",
    "            if diff > self.max_leap:\n",
    "                fitness += 1.0  # Penalize large leaps\n",
    "        \n",
    "        # Proportion between Rests and Notes\n",
    "        num_notes = sum(1 for gene in chromosome if gene[1] != 'p')\n",
    "        num_rests = len(chromosome) - num_notes\n",
    "        proportion = num_notes / (num_notes + num_rests)\n",
    "        if proportion < self.proportion_notes_rests:\n",
    "            fitness += 1.0  # Penalize melodies with too many rests\n",
    "        \n",
    "        # Repeating Notes Rule\n",
    "        repetitions = 1\n",
    "        for i in range(1, len(chromosome)):\n",
    "            if chromosome[i] == chromosome[i-1]:\n",
    "                repetitions += 1\n",
    "            else:\n",
    "                repetitions = 1\n",
    "            if repetitions > self.max_repeating_notes:\n",
    "                fitness += 1.0  # Penalize repeating notes\n",
    "        \n",
    "        # Global Pitch Distribution Rule\n",
    "        pitches = [self.notes.index(gene[1]) + 12 * gene[2] for gene in chromosome]\n",
    "        min_pitch = min(pitches)\n",
    "        max_pitch = max(pitches)\n",
    "        pitch_range = max_pitch - min_pitch\n",
    "        if pitch_range > self.global_pitch_margin:\n",
    "            fitness += 1.0  # Penalize melodies with a large pitch range\n",
    "        \n",
    "        return fitness\n",
    "\n",
    "    def initialize_population(self, length):\n",
    "        self.population = [self.create_chromosome(length) for _ in range(self.population_size)]\n",
    "\n",
    "    def roulette_wheel_selection(self, fitness_scores):\n",
    "        selected_indices = []\n",
    "        total_fitness = sum(fitness_scores)\n",
    "        for _ in range(self.population_size):\n",
    "            rand_val = random.uniform(0, total_fitness)\n",
    "            cumulative_fitness = 0\n",
    "            for i in range(self.population_size):\n",
    "                cumulative_fitness += fitness_scores[i]\n",
    "                if cumulative_fitness > rand_val:\n",
    "                    selected_indices.append(i)\n",
    "                    break\n",
    "        return selected_indices\n",
    "\n",
    "    def swap_mutation(self, chromosome):\n",
    "        mutated_chromosome = chromosome[:]\n",
    "        idx1, idx2 = random.sample(range(len(chromosome)), 2)\n",
    "        mutated_chromosome[idx1], mutated_chromosome[idx2] = mutated_chromosome[idx2], mutated_chromosome[idx1]\n",
    "        return mutated_chromosome\n",
    "\n",
    "    def scramble_mutation(self, chromosome):\n",
    "        mutated_chromosome = chromosome[:]\n",
    "        start, end = sorted(random.sample(range(len(chromosome)), 2))\n",
    "        genes_to_shuffle = mutated_chromosome[start:end]\n",
    "        random.shuffle(genes_to_shuffle)\n",
    "        mutated_chromosome[start:end] = genes_to_shuffle\n",
    "        return mutated_chromosome\n",
    "\n",
    "    def inversion_mutation(self, chromosome):\n",
    "        mutated_chromosome = chromosome[:]\n",
    "        start, end = sorted(random.sample(range(len(chromosome)), 2))\n",
    "        mutated_chromosome[start:end] = reversed(mutated_chromosome[start:end])\n",
    "        return mutated_chromosome\n",
    "\n",
    "    def replace_mutation(self, chromosome):\n",
    "        mutated_chromosome = chromosome[:]\n",
    "        idx = random.randint(0, len(chromosome) - 1)\n",
    "        mutated_chromosome[idx] = self.create_gene()\n",
    "        return mutated_chromosome\n",
    "\n",
    "    def one_point_crossover(self, parent1, parent2):\n",
    "        if random.random() < self.crossover_rate:\n",
    "            crossover_point = random.randint(1, len(parent1) - 1)\n",
    "            child = parent1[:crossover_point] + parent2[crossover_point:]\n",
    "        else:\n",
    "            child = random.choice([parent1, parent2])\n",
    "        return child\n",
    "\n",
    "    def two_point_crossover(self, parent1, parent2):\n",
    "        if random.random() < self.crossover_rate:\n",
    "            start, end = sorted(random.sample(range(len(parent1)), 2))\n",
    "            child = parent1[:start] + parent2[start:end] + parent1[end:]\n",
    "        else:\n",
    "            child = random.choice([parent1, parent2])\n",
    "        return child\n",
    "\n",
    "    def uniform_crossover(self, parent1, parent2):\n",
    "        if random.random() < self.crossover_rate:\n",
    "            child = [random.choice([parent1[i], parent2[i]]) for i in range(len(parent1))]\n",
    "        else:\n",
    "            child = random.choice([parent1, parent2])\n",
    "        return child\n",
    "\n",
    "    def evolve(self, length):\n",
    "        self.initialize_population(length)\n",
    "        \n",
    "        # print(self.population)\n",
    "        for generation in tqdm(range(self.num_generations)):\n",
    "            fitness_scores = [self.fitness_function(chromosome) for chromosome in self.population]\n",
    "            \n",
    "            # print(fitness_scores)\n",
    "            # return\n",
    "            #print(fitness_scores)\n",
    "            \n",
    "            best_fit_index = fitness_scores.index(min(fitness_scores))\n",
    "            # print(best_fit_index)\n",
    "            if fitness_scores[best_fit_index] < self.target_fitness:\n",
    "                self.best_melody = self.population[best_fit_index]\n",
    "                self.best_fitness = fitness_scores[best_fit_index]\n",
    "                print(f\"Found a fit melody in generation {generation}: {best_melody}\")\n",
    "                break\n",
    "\n",
    "            selected_indices = self.roulette_wheel_selection(fitness_scores)\n",
    "\n",
    "            new_population = []\n",
    "            while len(new_population) < self.population_size:\n",
    "                parent1_idx, parent2_idx = random.sample(selected_indices, 2)\n",
    "                parent1, parent2 = self.population[parent1_idx], self.population[parent2_idx]\n",
    "\n",
    "                child = self.one_point_crossover(parent1, parent2)\n",
    "\n",
    "                if random.random() < self.mutation_rate:\n",
    "                    mutation_operator = random.choice([self.swap_mutation, self.scramble_mutation, self.inversion_mutation, self.replace_mutation])\n",
    "                    child = mutation_operator(child)\n",
    "\n",
    "                new_population.append(child)\n",
    "\n",
    "            num_elites = int(self.elitism_rate * self.population_size)\n",
    "            elites = sorted(range(len(fitness_scores)), key=lambda i: fitness_scores[i])[:num_elites]\n",
    "            new_population[:num_elites] = [self.population[i] for i in elites]\n",
    "\n",
    "            self.population = new_population\n",
    "        \n",
    "        return self.best_melody, self.best_fitness\n",
    "\n",
    "    \n",
    "\n",
    "population_size = 100\n",
    "num_generations = 300000\n",
    "length = 50\n",
    "GA_MusicRules_generator = GA_MusicRules(\n",
    "    population_size=population_size,\n",
    "    num_generations=num_generations,\n",
    "    mutation_rate=0.1,\n",
    "    crossover_rate=0.7,\n",
    "    elitism_rate=0.05,\n",
    "    target_fitness=0.2\n",
    ")\n",
    "\n",
    "\n",
    "GA_MusicRules_generator.evolve(length=length)"
   ]
  },
  {
   "cell_type": "code",
   "execution_count": null,
   "metadata": {},
   "outputs": [],
   "source": [
    "[GA_MusicRules_generator.fitness_function(pop) for pop in GA_MusicRules_generator.population]"
   ]
  },
  {
   "cell_type": "code",
   "execution_count": 152,
   "metadata": {
    "tags": []
   },
   "outputs": [],
   "source": [
    "import pickle"
   ]
  },
  {
   "cell_type": "code",
   "execution_count": 154,
   "metadata": {
    "tags": []
   },
   "outputs": [],
   "source": [
    "file_path = 'generator.population.pkl'\n",
    "\n",
    "# Open the file in binary write mode\n",
    "with open(file_path, 'wb') as file:\n",
    "    # Serialize and save the list to the file\n",
    "    pickle.dump(generator.population, file)"
   ]
  },
  {
   "cell_type": "code",
   "execution_count": 155,
   "metadata": {
    "tags": []
   },
   "outputs": [],
   "source": [
    "with open(file_path, 'rb') as file:\n",
    "    # Deserialize and load the list from the file\n",
    "    loaded_population = pickle.load(file)"
   ]
  },
  {
   "cell_type": "code",
   "execution_count": null,
   "metadata": {},
   "outputs": [],
   "source": []
  },
  {
   "cell_type": "code",
   "execution_count": null,
   "metadata": {},
   "outputs": [],
   "source": []
  },
  {
   "cell_type": "code",
   "execution_count": 267,
   "metadata": {
    "tags": []
   },
   "outputs": [
    {
     "name": "stderr",
     "output_type": "stream",
     "text": [
      "100%|█████████████████████████████████████████████████████████████████████████████████| 50/50 [00:00<00:00, 125.31it/s]\n"
     ]
    }
   ],
   "source": [
    "decoded_population = decode_output_tf(generator.population)"
   ]
  },
  {
   "cell_type": "code",
   "execution_count": 268,
   "metadata": {
    "tags": []
   },
   "outputs": [],
   "source": [
    "converted_population = convert_indices_to_values(decoded_population)"
   ]
  },
  {
   "cell_type": "code",
   "execution_count": null,
   "metadata": {
    "tags": []
   },
   "outputs": [],
   "source": [
    "!pip3 install --user scamp"
   ]
  },
  {
   "cell_type": "code",
   "execution_count": 75,
   "metadata": {
    "tags": []
   },
   "outputs": [],
   "source": [
    "from scamp import test_run; test_run.play()"
   ]
  },
  {
   "cell_type": "code",
   "execution_count": 77,
   "metadata": {
    "tags": []
   },
   "outputs": [],
   "source": [
    "import mido\n",
    "from mido import MidiFile, MidiTrack, Message\n",
    "from tqdm import tqdm\n",
    "from scamp import *\n",
    "from collections import namedtuple\n",
    "\n",
    "def note_to_number(note, octave):\n",
    "    note_mapping = {'p': 0, 'c': 1, 'c#': 2, 'd': 3, 'd#': 4, 'e': 5, 'f': 6, 'f#': 7, 'g': 8, 'g#': 9, 'a': 10, 'a#': 11, 'b': 12}\n",
    "\n",
    "    # Calculate the MIDI note number based on note name and octave\n",
    "    note_number = note_mapping.get(note, None)\n",
    "    if note_number is not None:\n",
    "        note_number += octave * 12  # Octave adjustment, maybe i should change this constant 12 to like octave_multiplier thats given in parser ? \n",
    "\n",
    "    return note_number\n",
    "\n",
    "\n",
    "def note_tuple_to_midi(note_list, default_bpm, ticks_per_beat=120):\n",
    "    duration, note, octave, dot = note_list\n",
    "    duration = int(duration)\n",
    "    octave = int(octave) #\n",
    "    dot = int(dot)\n",
    "    \n",
    "    if note == 'p':\n",
    "        # Skip generating MIDI messages for pauses\n",
    "        return []\n",
    "\n",
    "    \n",
    "    # Calculate note duration with dots\n",
    "    duration_ms = (4000 / duration) * (1 + 0.5 * dot)\n",
    "\n",
    "    # Convert note to MIDI note number\n",
    "    note_number = note_to_number(note, octave)\n",
    "    # print(note_number)\n",
    "    \n",
    "    # Calculate MIDI ticks for the note duration\n",
    "    tick_duration_ms = int(1.0 * 60000 / (default_bpm * ticks_per_beat))\n",
    "    \n",
    "\n",
    "    return [note_number, tick_duration_ms]\n",
    "\n",
    "def note_list_to_midi_track(note_list, default_bpm, ticks_per_beat=120):\n",
    "    track = MidiTrack()\n",
    "    time_offset = 0 \n",
    "    \n",
    "    for i, note_list in enumerate(note_list):\n",
    "        midi_messages = note_tuple_to_midi(note_list, default_bpm, ticks_per_beat)\n",
    "        # print(midi_messages)\n",
    "        # if i == 10:\n",
    "        #    break\n",
    "            \n",
    "        if midi_messages:\n",
    "            note_number, ticks = midi_messages\n",
    "            # set time_offset\n",
    "            track.append(Message('note_on', note=note_number, velocity=64, time=time_offset))\n",
    "            track.append(Message('note_off', note=note_number, velocity=64, time=time_offset + ticks))\n",
    "            # update time_offset based on ticks\n",
    "            time_offset += ticks\n",
    "    return track\n",
    "\n",
    "# Define a function to create a MIDI file from a list of note lists\n",
    "def create_midi_file(note_lists, default_bpm, output_filename):\n",
    "    midi = MidiFile()\n",
    "    \n",
    "    for note_list in note_lists:\n",
    "        track = note_list_to_midi_track(note_list, default_bpm)\n",
    "        midi.tracks.append(track)\n",
    "    \n",
    "    # print(midi.length)\n",
    "    midi.save(output_filename)\n",
    "\n",
    "    \n",
    "# #     allowed_bpm = [\n",
    "#         25, 28, 31, 35, 40, 45, 50, 56, 63, 70, 80, 90,\n",
    "#         100, 112, 125, 140, 160, 180, 200, 225, 250, 285,\n",
    "#         320, 355, 400, 450, 500, 565, 635, 715, 800, 900]\n",
    "# Example usage with a default BPM of 140\n",
    "\n",
    "default_bpm = 100\n",
    "output_file = f'song - {default_bpm}_{population_size}_{length}_{num_generations}.mid'\n",
    "create_midi_file(GA_MusicRules_generator.population, default_bpm, output_file)"
   ]
  },
  {
   "cell_type": "code",
   "execution_count": null,
   "metadata": {},
   "outputs": [],
   "source": []
  }
 ],
 "metadata": {
  "accelerator": "GPU",
  "colab": {
   "gpuType": "T4",
   "provenance": []
  },
  "kernelspec": {
   "display_name": "RI Project 2",
   "language": "python",
   "name": "ri_project"
  },
  "language_info": {
   "codemirror_mode": {
    "name": "ipython",
    "version": 3
   },
   "file_extension": ".py",
   "mimetype": "text/x-python",
   "name": "python",
   "nbconvert_exporter": "python",
   "pygments_lexer": "ipython3",
   "version": "3.9.16"
  }
 },
 "nbformat": 4,
 "nbformat_minor": 4
}
